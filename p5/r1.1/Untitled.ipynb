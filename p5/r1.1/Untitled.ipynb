{
 "cells": [
  {
   "cell_type": "markdown",
   "metadata": {},
   "source": [
    "# New trading strategy\n",
    "\n",
    "Inputs\n",
    "- USD/Gold\n",
    "- Major currencies\n",
    "\n",
    "Expectations\n",
    "- \n",
    "\n",
    "Options\n",
    "- Portfolio of currencies\n",
    " - USA\n",
    " - AUD\n",
    " - GBP\n",
    " - BASELINE"
   ]
  }
 ],
 "metadata": {
  "kernelspec": {
   "display_name": "Python 2",
   "language": "python",
   "name": "python2"
  },
  "language_info": {
   "codemirror_mode": {
    "name": "ipython",
    "version": 2
   },
   "file_extension": ".py",
   "mimetype": "text/x-python",
   "name": "python",
   "nbconvert_exporter": "python",
   "pygments_lexer": "ipython2",
   "version": "2.7.11"
  }
 },
 "nbformat": 4,
 "nbformat_minor": 0
}
