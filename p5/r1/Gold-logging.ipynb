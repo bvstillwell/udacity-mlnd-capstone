{
 "cells": [
  {
   "cell_type": "markdown",
   "metadata": {},
   "source": [
    "# Progress Steps\n",
    "* So are we going to be rich?\n",
    "* What is a cross currency?\n",
    "* Are the times correct for gold?\n",
    "* Where do I get the data?\n",
    "\n",
    "* What makes a good prediction?\n",
    " * Tomorrows prediction?\n",
    " * A few days out?\n",
    " * Binary or multiclass?\n",
    " * Scoring, Accuracy v precision\n",
    " \n",
    "* Results\n",
    " * Prediction over 1 year\n",
    " * Predict days in the future [1, 7, 30, 90]\n",
    " * Predict k vs one\n",
    "\n",
    "* Training data\n",
    "    * Previous [10y, 5y, 2y, 1y, 6m]\n",
    "    * Retraining\n",
    "    \n",
    "* Retraining\n",
    " * How does retrianing affect the result?\n",
    " * Which windows to use?\n",
    " \n",
    "* Feature selection\n",
    "1. Daily rates\n",
    "    1. 5, 30 and 90 day windows\n",
    "\n",
    "* Comparing classifiers\n",
    " * Decision tree\n",
    " * SVM\n",
    " * Logistic regression\n",
    " * NN\n",
    " * Ada boost\n",
    " "
   ]
  },
  {
   "cell_type": "markdown",
   "metadata": {},
   "source": [
    "# Just remember.... Start with the simplist model, and add features\n",
    "## Features\n",
    "- Daily returns\n",
    " - daily_returns[t] = (price[t]/price[-1])-1\n",
    "\n",
    "## Predictions\n",
    "1. Will the price stay the same or go up tomorrow. up=1, others=0\n",
    "\n",
    "## Things I want to find out\n",
    "- Can we predict gold resonably well\n",
    "    - What features are corrrelated?\n",
    "    - What are good features?\n",
    "    - Do we need lots of them?\n",
    "- Has trading changed in modern times\n",
    "    - Has automated trading made things different?\n",
    "    - Do we overfit if we only look at old data?\n",
    "    - Was old data correlated to different features that are no longer important?\n",
    "       \n",
    "## New quesitions\n",
    "- Do the dates work correctly?\n",
    " - Asuming the day is correct, we use\n",
    " - UK Gold 10:30am (GMT)\n",
    " - UK Gold 3pm (GMT)\n",
    " - FX NYC 12pm (4pm GMT)\n",
    "  - http://www.federalreserve.gov/pubs/bulletin/2005/winter05_index.pdf\n",
    "\n",
    "- Score seems kind of high, why?\n",
    "    - LogarythmicRegression not working\n",
    " \n",
    "- Is the model accurate today?\n",
    "    - Let's test on the data from the last year\n",
    "\n",
    "- How long is a model valid before it's predictions don't work?\n",
    "\n",
    "- Can the model predict further out?\n",
    "\n",
    "- Are they correct if we retrain every day?\n",
    "\n",
    "- Can we predict bigger changes rather than just positive?\n",
    "\n",
    "- What is most important? Acucracy, recall, both?\n",
    "\n",
    "## Notes discovered\n",
    "We are only predicting gold against USD. What about the global economy? Do we use a bag of currencies? What are their weightings?\n",
    "\n"
   ]
  },
  {
   "cell_type": "code",
   "execution_count": 1,
   "metadata": {
    "collapsed": false
   },
   "outputs": [],
   "source": [
    "%load_ext autoreload\n",
    "%autoreload 2"
   ]
  },
  {
   "cell_type": "code",
   "execution_count": 2,
   "metadata": {
    "collapsed": false
   },
   "outputs": [
    {
     "name": "stderr",
     "output_type": "stream",
     "text": [
      "INFO:root:LOADING Helper1 :-)2016-05-29 16:54:00.639856\n",
      "INFO:root:fookit, lets see is we can predict\n"
     ]
    },
    {
     "data": {
      "text/plain": [
       "['KFold',\n",
       " '__builtins__',\n",
       " '__doc__',\n",
       " '__file__',\n",
       " '__name__',\n",
       " '__package__',\n",
       " 'calc_daily_ret',\n",
       " 'calc_rolling_averages',\n",
       " 'create_y_labels',\n",
       " 'currencies',\n",
       " 'datetime',\n",
       " 'download_quandl',\n",
       " 'draw_info',\n",
       " 'grid_search',\n",
       " 'ld',\n",
       " 'li',\n",
       " 'load_and_calculate',\n",
       " 'load_and_prepare_data',\n",
       " 'logger',\n",
       " 'logging',\n",
       " 'os',\n",
       " 'pd',\n",
       " 'plt',\n",
       " 'quandl',\n",
       " 're',\n",
       " 'set_date_range',\n",
       " 'test',\n",
       " 'test_train',\n",
       " 'train']"
      ]
     },
     "execution_count": 2,
     "metadata": {},
     "output_type": "execute_result"
    }
   ],
   "source": [
    "import logging\n",
    "import helper1 as hlp\n",
    "dir(hlp)"
   ]
  },
  {
   "cell_type": "code",
   "execution_count": 3,
   "metadata": {
    "collapsed": false
   },
   "outputs": [],
   "source": [
    "# Kept here incase I need some of this later\n",
    "\n",
    "# from sklearn.linear_model import LinearRegression\n",
    "# import numpy as np\n",
    "\n",
    "# def rolling_linear_regression(df, n, col):\n",
    "#     def func(indexes, df): \n",
    "#         d_tmp = df.loc[indexes]\n",
    "                \n",
    "#         X = np.array(range(len(indexes))).reshape([-1, 1])\n",
    "#         y = d_tmp[col].reshape([-1, 1])\n",
    "        \n",
    "#         lr.fit(X, y)\n",
    "#         result = lr.coef_\n",
    "        \n",
    "#         return result\n",
    "    \n",
    "#     lr = LinearRegression()\n",
    "#     result = pd.rolling_apply(df.index.values, n, lambda i: func(i, df))\n",
    "#     return result\n",
    "\n",
    "# def rate_of_change(df, n, col):\n",
    "#     prev = df.shift(n)[col]\n",
    "#     result = 100 * (df[col] - prev) / prev\n",
    "#     return result\n",
    "\n",
    "# def roc_ratio(df, n, col):\n",
    "#     prev = df.shift(n)[col]\n",
    "    \n",
    "    \n",
    "# for n in [5, 10, 20]:\n",
    "#     df['lr_%s' % n] = rolling_linear_regression(df, n, 'v')\n",
    "#     df['roc_%s' % n] = rate_of_change(df, n, 'v')\n",
    "\n",
    "# df['v'].plot()\n",
    "# df[['lr_%s' % n for n in [5, 10, 20]]].plot()\n",
    "# df[['roc_%s' % n for n in [5, 10, 20]]].plot()"
   ]
  },
  {
   "cell_type": "markdown",
   "metadata": {},
   "source": [
    "## Lets see how it works for the last year"
   ]
  },
  {
   "cell_type": "code",
   "execution_count": 12,
   "metadata": {
    "collapsed": false
   },
   "outputs": [
    {
     "name": "stderr",
     "output_type": "stream",
     "text": [
      "INFO:root:LOADING Helper1 :-)2016-05-29 17:09:04.241606\n",
      "INFO:root:fookit, lets see is we can predict\n",
      "INFO:root:Load currencies\n",
      "INFO:root:Loading file:currencies\n",
      "INFO:root:Are we using the correct timezone?\n",
      "INFO:root:inverse currencies so they are all 'how many x does 1 usd buy'\n",
      "INFO:root:Lets get the gold\n",
      "INFO:root:Loading file:LBMA_GOLD\n",
      "INFO:root:Forward fill weekends and holidays\n",
      "INFO:root:Set date range Dates\n",
      "INFO:root:Using aa 15 year period of data\n",
      "INFO:root:calculate daily returns\n",
      "INFO:root:caluclate rolling averages\n",
      "INFO:root:Index([u'GOLD_dr', u'JPY_dr', u'AUD_dr', u'GBP_dr', u'NZD_dr', u'CNY_dr',\n",
      "       u'CAD_dr', u'CHF_dr', u'EUR_dr', u'GOLD_dr_2', u'JPY_dr_2', u'AUD_dr_2',\n",
      "       u'GBP_dr_2', u'NZD_dr_2', u'CNY_dr_2', u'CAD_dr_2', u'CHF_dr_2',\n",
      "       u'EUR_dr_2', u'GOLD_dr_7', u'JPY_dr_7', u'AUD_dr_7', u'GBP_dr_7',\n",
      "       u'NZD_dr_7', u'CNY_dr_7', u'CAD_dr_7', u'CHF_dr_7', u'EUR_dr_7',\n",
      "       u'GOLD_dr_30', u'JPY_dr_30', u'AUD_dr_30', u'GBP_dr_30', u'NZD_dr_30',\n",
      "       u'CNY_dr_30', u'CAD_dr_30', u'CHF_dr_30', u'EUR_dr_30', u'GOLD_dr_180',\n",
      "       u'JPY_dr_180', u'AUD_dr_180', u'GBP_dr_180', u'NZD_dr_180',\n",
      "       u'CNY_dr_180', u'CAD_dr_180', u'CHF_dr_180', u'EUR_dr_180'],\n",
      "      dtype='object')\n",
      "INFO:root:Create the y labels vector\n",
      "INFO:root:Actual\n",
      "INFO:root:             precision    recall  f1-score   support\n",
      "\n",
      "          D       0.49      0.70      0.58        63\n",
      "          U       0.70      0.49      0.58        91\n",
      "\n",
      "avg / total       0.62      0.58      0.58       154\n",
      "\n",
      "INFO:root:random sample\n",
      "INFO:root:             precision    recall  f1-score   support\n",
      "\n",
      "          D       0.43      0.43      0.43        63\n",
      "          U       0.60      0.60      0.60        91\n",
      "\n",
      "avg / total       0.53      0.53      0.53       154\n",
      "\n"
     ]
    },
    {
     "ename": "ValueError",
     "evalue": "pos_label=1 is not a valid label: array(['D', 'U'], \n      dtype='|S1')",
     "output_type": "error",
     "traceback": [
      "\u001b[1;31m---------------------------------------------------------------------------\u001b[0m",
      "\u001b[1;31mValueError\u001b[0m                                Traceback (most recent call last)",
      "\u001b[1;32m<ipython-input-12-3e08bcbe0d3e>\u001b[0m in \u001b[0;36m<module>\u001b[1;34m()\u001b[0m\n\u001b[0;32m     32\u001b[0m }\n\u001b[0;32m     33\u001b[0m \u001b[0mclf\u001b[0m \u001b[1;33m=\u001b[0m \u001b[0mDecisionTreeClassifier\u001b[0m\u001b[1;33m(\u001b[0m\u001b[1;33m)\u001b[0m\u001b[1;33m\u001b[0m\u001b[0m\n\u001b[1;32m---> 34\u001b[1;33m \u001b[0mtrain_and_test\u001b[0m\u001b[1;33m(\u001b[0m\u001b[0mclf\u001b[0m\u001b[1;33m,\u001b[0m \u001b[0mX\u001b[0m\u001b[1;33m,\u001b[0m \u001b[0my\u001b[0m\u001b[1;33m,\u001b[0m \u001b[1;34m'2001-04-01'\u001b[0m\u001b[1;33m,\u001b[0m \u001b[1;34m'2015-06-01'\u001b[0m\u001b[1;33m,\u001b[0m\u001b[1;34m'2015-06-01'\u001b[0m\u001b[1;33m,\u001b[0m \u001b[1;34m'2016-09-01'\u001b[0m\u001b[1;33m,\u001b[0m \u001b[0mparam_grid\u001b[0m\u001b[1;33m)\u001b[0m\u001b[1;33m\u001b[0m\u001b[0m\n\u001b[0m",
      "\u001b[1;32m<ipython-input-12-3e08bcbe0d3e>\u001b[0m in \u001b[0;36mtrain_and_test\u001b[1;34m(clf, X, y, train_start, train_end, test_start, test_end, param_grid)\u001b[0m\n\u001b[0;32m      9\u001b[0m     \u001b[0mX_test\u001b[0m \u001b[1;33m=\u001b[0m \u001b[0mX\u001b[0m\u001b[1;33m[\u001b[0m\u001b[0mtest_start\u001b[0m\u001b[1;33m:\u001b[0m \u001b[0mtest_end\u001b[0m\u001b[1;33m]\u001b[0m\u001b[1;33m\u001b[0m\u001b[0m\n\u001b[0;32m     10\u001b[0m     \u001b[0my_test\u001b[0m \u001b[1;33m=\u001b[0m \u001b[0my\u001b[0m\u001b[1;33m[\u001b[0m\u001b[0mtest_start\u001b[0m\u001b[1;33m:\u001b[0m \u001b[0mtest_end\u001b[0m\u001b[1;33m]\u001b[0m\u001b[1;33m\u001b[0m\u001b[0m\n\u001b[1;32m---> 11\u001b[1;33m     \u001b[0mscore\u001b[0m \u001b[1;33m=\u001b[0m \u001b[0mhlp\u001b[0m\u001b[1;33m.\u001b[0m\u001b[0mtest\u001b[0m\u001b[1;33m(\u001b[0m\u001b[0mclf\u001b[0m\u001b[1;33m,\u001b[0m \u001b[0mX_test\u001b[0m\u001b[1;33m,\u001b[0m \u001b[0my_test\u001b[0m\u001b[1;33m)\u001b[0m\u001b[1;33m\u001b[0m\u001b[0m\n\u001b[0m\u001b[0;32m     12\u001b[0m     \u001b[1;32mreturn\u001b[0m \u001b[0mscore\u001b[0m\u001b[1;33m\u001b[0m\u001b[0m\n\u001b[0;32m     13\u001b[0m \u001b[1;33m\u001b[0m\u001b[0m\n",
      "\u001b[1;32m/home/brad/github/udacity/p5/r1/helper1.py\u001b[0m in \u001b[0;36mtest\u001b[1;34m(clf, X_test, y_test)\u001b[0m\n\u001b[0;32m    228\u001b[0m     \u001b[0mlogging\u001b[0m\u001b[1;33m.\u001b[0m\u001b[0minfo\u001b[0m\u001b[1;33m(\u001b[0m\u001b[0mclassification_report\u001b[0m\u001b[1;33m(\u001b[0m\u001b[0my_test\u001b[0m\u001b[1;33m,\u001b[0m \u001b[0mpred_sample\u001b[0m\u001b[1;33m)\u001b[0m\u001b[1;33m)\u001b[0m\u001b[1;33m\u001b[0m\u001b[0m\n\u001b[0;32m    229\u001b[0m \u001b[1;33m\u001b[0m\u001b[0m\n\u001b[1;32m--> 230\u001b[1;33m     \u001b[1;32mreturn\u001b[0m \u001b[0mf1_score\u001b[0m\u001b[1;33m(\u001b[0m\u001b[0my_test\u001b[0m\u001b[1;33m,\u001b[0m \u001b[0mpred_actual\u001b[0m\u001b[1;33m)\u001b[0m\u001b[1;33m\u001b[0m\u001b[0m\n\u001b[0m\u001b[0;32m    231\u001b[0m \u001b[1;33m\u001b[0m\u001b[0m\n",
      "\u001b[1;32m/home/brad/anaconda/lib/python2.7/site-packages/sklearn/metrics/classification.pyc\u001b[0m in \u001b[0;36mf1_score\u001b[1;34m(y_true, y_pred, labels, pos_label, average, sample_weight)\u001b[0m\n\u001b[0;32m    637\u001b[0m     return fbeta_score(y_true, y_pred, 1, labels=labels,\n\u001b[0;32m    638\u001b[0m                        \u001b[0mpos_label\u001b[0m\u001b[1;33m=\u001b[0m\u001b[0mpos_label\u001b[0m\u001b[1;33m,\u001b[0m \u001b[0maverage\u001b[0m\u001b[1;33m=\u001b[0m\u001b[0maverage\u001b[0m\u001b[1;33m,\u001b[0m\u001b[1;33m\u001b[0m\u001b[0m\n\u001b[1;32m--> 639\u001b[1;33m                        sample_weight=sample_weight)\n\u001b[0m\u001b[0;32m    640\u001b[0m \u001b[1;33m\u001b[0m\u001b[0m\n\u001b[0;32m    641\u001b[0m \u001b[1;33m\u001b[0m\u001b[0m\n",
      "\u001b[1;32m/home/brad/anaconda/lib/python2.7/site-packages/sklearn/metrics/classification.pyc\u001b[0m in \u001b[0;36mfbeta_score\u001b[1;34m(y_true, y_pred, beta, labels, pos_label, average, sample_weight)\u001b[0m\n\u001b[0;32m    754\u001b[0m                                                  \u001b[0maverage\u001b[0m\u001b[1;33m=\u001b[0m\u001b[0maverage\u001b[0m\u001b[1;33m,\u001b[0m\u001b[1;33m\u001b[0m\u001b[0m\n\u001b[0;32m    755\u001b[0m                                                  \u001b[0mwarn_for\u001b[0m\u001b[1;33m=\u001b[0m\u001b[1;33m(\u001b[0m\u001b[1;34m'f-score'\u001b[0m\u001b[1;33m,\u001b[0m\u001b[1;33m)\u001b[0m\u001b[1;33m,\u001b[0m\u001b[1;33m\u001b[0m\u001b[0m\n\u001b[1;32m--> 756\u001b[1;33m                                                  sample_weight=sample_weight)\n\u001b[0m\u001b[0;32m    757\u001b[0m     \u001b[1;32mreturn\u001b[0m \u001b[0mf\u001b[0m\u001b[1;33m\u001b[0m\u001b[0m\n\u001b[0;32m    758\u001b[0m \u001b[1;33m\u001b[0m\u001b[0m\n",
      "\u001b[1;32m/home/brad/anaconda/lib/python2.7/site-packages/sklearn/metrics/classification.pyc\u001b[0m in \u001b[0;36mprecision_recall_fscore_support\u001b[1;34m(y_true, y_pred, beta, labels, pos_label, average, warn_for, sample_weight)\u001b[0m\n\u001b[0;32m    982\u001b[0m                 \u001b[1;32melse\u001b[0m\u001b[1;33m:\u001b[0m\u001b[1;33m\u001b[0m\u001b[0m\n\u001b[0;32m    983\u001b[0m                     raise ValueError(\"pos_label=%r is not a valid label: %r\" %\n\u001b[1;32m--> 984\u001b[1;33m                                      (pos_label, present_labels))\n\u001b[0m\u001b[0;32m    985\u001b[0m             \u001b[0mlabels\u001b[0m \u001b[1;33m=\u001b[0m \u001b[1;33m[\u001b[0m\u001b[0mpos_label\u001b[0m\u001b[1;33m]\u001b[0m\u001b[1;33m\u001b[0m\u001b[0m\n\u001b[0;32m    986\u001b[0m     \u001b[1;32mif\u001b[0m \u001b[0mlabels\u001b[0m \u001b[1;32mis\u001b[0m \u001b[0mNone\u001b[0m\u001b[1;33m:\u001b[0m\u001b[1;33m\u001b[0m\u001b[0m\n",
      "\u001b[1;31mValueError\u001b[0m: pos_label=1 is not a valid label: array(['D', 'U'], \n      dtype='|S1')"
     ]
    }
   ],
   "source": [
    "def train_and_test(clf, X, y, train_start, train_end, test_start, test_end, param_grid=None):\n",
    "    # Get data for training\n",
    "    X_train = X[train_start: train_end]\n",
    "    y_train = y[train_start: train_end]\n",
    "\n",
    "    clf = hlp.train(clf,X_train, y_train, param_grid)\n",
    "    \n",
    "    \n",
    "    X_test = X[test_start: test_end]\n",
    "    y_test = y[test_start: test_end]\n",
    "    score = hlp.test(clf, X_test, y_test)\n",
    "    return score\n",
    "    \n",
    "\n",
    "X = hlp.load_and_calculate()\n",
    "hlp.li(X.columns)\n",
    "y = hlp.create_y_labels(X['GOLD_dr'], days_ahead=1, threshold=0.0002)\n",
    "y = y.map({1.0:'U', 2.0:'D'})\n",
    "\n",
    "import pandas as pd\n",
    "#print pd.concat([X['GOLD_dr'], X['GOLD_dr'].shift(1), X['GOLD_dr'].shift(2)], axis=1)\n",
    "\n",
    "cols = X.columns.values\n",
    "for col in cols:\n",
    "    if \"GOLD_\" in col:\n",
    "        X.drop(col, axis=1, inplace=True)\n",
    "\n",
    "from sklearn.tree import DecisionTreeClassifier\n",
    "param_grid={\n",
    "    'max_depth': range(2,5) + [10, 15],\n",
    "    'min_samples_split' : [2,10,20]\n",
    "}\n",
    "clf = DecisionTreeClassifier()\n",
    "train_and_test(clf, X, y, '2001-04-01', '2015-06-01','2015-06-01', '2016-09-01', param_grid)"
   ]
  },
  {
   "cell_type": "code",
   "execution_count": 123,
   "metadata": {
    "collapsed": false
   },
   "outputs": [
    {
     "name": "stderr",
     "output_type": "stream",
     "text": [
      "INFO:root:1\n",
      "INFO:root:Create the y labels vector\n"
     ]
    },
    {
     "name": "stdout",
     "output_type": "stream",
     "text": [
      "(3101, 45)\n",
      "(3101,)\n",
      "2    1604\n",
      "1    1497\n",
      "Name: GOLD_dr, dtype: int64\n",
      "DecisionTreeClassifier(class_weight=None, criterion='gini', max_depth=4,\n",
      "            max_features=None, max_leaf_nodes=None, min_samples_leaf=1,\n",
      "            min_samples_split=2, min_weight_fraction_leaf=0.0,\n",
      "            presort=False, random_state=None, splitter='best')"
     ]
    },
    {
     "name": "stderr",
     "output_type": "stream",
     "text": [
      "INFO:root:Actual\n",
      "INFO:root:0.490106544901\n",
      "INFO:root:             precision    recall  f1-score   support\n",
      "\n",
      "        1.0       0.60      0.41      0.49       390\n",
      "        2.0       0.48      0.67      0.56       321\n",
      "\n",
      "avg / total       0.55      0.53      0.52       711\n",
      "\n",
      "INFO:root:random sample\n",
      "INFO:root:0.551282051282\n",
      "INFO:root:2\n",
      "INFO:root:Create the y labels vector\n"
     ]
    },
    {
     "name": "stdout",
     "output_type": "stream",
     "text": [
      "\n",
      "(array([ 1.,  2.]), array([267, 444]))\n",
      "(3101, 45)\n",
      "(3101,)\n",
      "2    1604\n",
      "1    1497\n",
      "Name: GOLD_dr, dtype: int64\n",
      "DecisionTreeClassifier(class_weight=None, criterion='gini', max_depth=10,\n",
      "            max_features=None, max_leaf_nodes=None, min_samples_leaf=1,\n",
      "            min_samples_split=2, min_weight_fraction_leaf=0.0,\n",
      "            presort=False, random_state=None, splitter='best')"
     ]
    },
    {
     "name": "stderr",
     "output_type": "stream",
     "text": [
      "INFO:root:Actual\n",
      "INFO:root:0.383045525903\n",
      "INFO:root:             precision    recall  f1-score   support\n",
      "\n",
      "        1.0       0.49      0.31      0.38       390\n",
      "        2.0       0.42      0.61      0.50       321\n",
      "\n",
      "avg / total       0.46      0.45      0.44       711\n",
      "\n",
      "INFO:root:random sample\n",
      "INFO:root:0.54358974359\n",
      "INFO:root:30\n",
      "INFO:root:Create the y labels vector\n"
     ]
    },
    {
     "name": "stdout",
     "output_type": "stream",
     "text": [
      "\n",
      "(array([ 1.,  2.]), array([247, 464]))\n",
      "(3101, 45)\n",
      "(3101,)\n",
      "2    1603\n",
      "1    1498\n",
      "Name: GOLD_dr, dtype: int64\n",
      "DecisionTreeClassifier(class_weight=None, criterion='gini', max_depth=10,\n",
      "            max_features=None, max_leaf_nodes=None, min_samples_leaf=1,\n",
      "            min_samples_split=10, min_weight_fraction_leaf=0.0,\n",
      "            presort=False, random_state=None, splitter='best')"
     ]
    },
    {
     "name": "stderr",
     "output_type": "stream",
     "text": [
      "INFO:root:Actual\n",
      "INFO:root:0.574233128834\n",
      "INFO:root:             precision    recall  f1-score   support\n",
      "\n",
      "        1.0       0.57      0.58      0.57       404\n",
      "        2.0       0.43      0.42      0.43       307\n",
      "\n",
      "avg / total       0.51      0.51      0.51       711\n",
      "\n",
      "INFO:root:random sample\n",
      "INFO:root:0.596534653465\n",
      "INFO:root:60\n",
      "INFO:root:Create the y labels vector\n"
     ]
    },
    {
     "name": "stdout",
     "output_type": "stream",
     "text": [
      "\n",
      "(array([ 1.,  2.]), array([411, 300]))\n",
      "(3101, 45)\n",
      "(3101,)\n",
      "2    1601\n",
      "1    1500\n",
      "Name: GOLD_dr, dtype: int64\n",
      "DecisionTreeClassifier(class_weight=None, criterion='gini', max_depth=2,\n",
      "            max_features=None, max_leaf_nodes=None, min_samples_leaf=1,\n",
      "            min_samples_split=2, min_weight_fraction_leaf=0.0,\n",
      "            presort=False, random_state=None, splitter='best')"
     ]
    },
    {
     "name": "stderr",
     "output_type": "stream",
     "text": [
      "INFO:root:Actual\n",
      "INFO:root:0.633684210526\n",
      "INFO:root:             precision    recall  f1-score   support\n",
      "\n",
      "        1.0       0.56      0.72      0.63       417\n",
      "        2.0       0.35      0.21      0.26       294\n",
      "\n",
      "avg / total       0.48      0.51      0.48       711\n",
      "\n",
      "INFO:root:random sample\n",
      "INFO:root:0.592326139089\n",
      "INFO:root:90\n",
      "INFO:root:Create the y labels vector\n"
     ]
    },
    {
     "name": "stdout",
     "output_type": "stream",
     "text": [
      "\n",
      "(array([ 1.,  2.]), array([533, 178]))\n",
      "(3101, 45)\n",
      "(3101,)\n",
      "2    1605\n",
      "1    1496\n",
      "Name: GOLD_dr, dtype: int64\n",
      "DecisionTreeClassifier(class_weight=None, criterion='gini', max_depth=15,\n",
      "            max_features=None, max_leaf_nodes=None, min_samples_leaf=1,\n",
      "            min_samples_split=2, min_weight_fraction_leaf=0.0,\n",
      "            presort=False, random_state=None, splitter='best')"
     ]
    },
    {
     "name": "stderr",
     "output_type": "stream",
     "text": [
      "INFO:root:Actual\n",
      "INFO:root:0.490984743412\n",
      "INFO:root:             precision    recall  f1-score   support\n",
      "\n",
      "        1.0       0.62      0.41      0.49       435\n",
      "        2.0       0.39      0.61      0.48       276\n",
      "\n",
      "avg / total       0.53      0.48      0.49       711\n",
      "\n",
      "INFO:root:random sample\n",
      "INFO:root:0.602298850575\n",
      "INFO:root:180\n",
      "INFO:root:Create the y labels vector\n"
     ]
    },
    {
     "name": "stdout",
     "output_type": "stream",
     "text": [
      "\n",
      "(array([ 1.,  2.]), array([286, 425]))\n",
      "(3101, 45)\n",
      "(3101,)\n",
      "2    1598\n",
      "1    1503\n",
      "Name: GOLD_dr, dtype: int64\n",
      "DecisionTreeClassifier(class_weight=None, criterion='gini', max_depth=4,\n",
      "            max_features=None, max_leaf_nodes=None, min_samples_leaf=1,\n",
      "            min_samples_split=20, min_weight_fraction_leaf=0.0,\n",
      "            presort=False, random_state=None, splitter='best')"
     ]
    },
    {
     "name": "stderr",
     "output_type": "stream",
     "text": [
      "INFO:root:Actual\n",
      "INFO:root:0.0369609856263\n",
      "INFO:root:             precision    recall  f1-score   support\n",
      "\n",
      "        1.0       0.56      0.02      0.04       471\n",
      "        2.0       0.34      0.97      0.50       240\n",
      "\n",
      "avg / total       0.49      0.34      0.19       711\n",
      "\n",
      "INFO:root:random sample\n",
      "INFO:root:0.632696390658\n"
     ]
    },
    {
     "name": "stdout",
     "output_type": "stream",
     "text": [
      "\n",
      "(array([ 1.,  2.]), array([ 16, 695]))\n"
     ]
    }
   ],
   "source": [
    "scores = []\n",
    "for i in [1, 2, 30, 60, 90, 180]:\n",
    "    hlp.li(i)\n",
    "    y = hlp.create_y_labels(X['GOLD_dr'], days_ahead=i)\n",
    "    score = run(X, y, '2001-04-01', '2013-04-01','2013-04-01', '2016-04-01')\n",
    "    scores.append(score)\n",
    "\n",
    "# for c in [1, 5, 30, 60]\n",
    "#     y = hlp.create_y_labels(X['GOLD_dr'])\n",
    "#     run(X, y, '2001-01-04', '2011-01-04', '2011-01-04', '2016-01-04')"
   ]
  },
  {
   "cell_type": "code",
   "execution_count": 124,
   "metadata": {
    "collapsed": false
   },
   "outputs": [
    {
     "data": {
      "text/plain": [
       "[0.49010654490106542,\n",
       " 0.38304552590266872,\n",
       " 0.57423312883435573,\n",
       " 0.63368421052631574,\n",
       " 0.49098474341192783,\n",
       " 0.036960985626283367]"
      ]
     },
     "execution_count": 124,
     "metadata": {},
     "output_type": "execute_result"
    },
    {
     "data": {
      "image/png": "[encoded data removed]",
      "text/plain": [
       "<matplotlib.figure.Figure at 0x7f3857e2b290>"
      ]
     },
     "metadata": {},
     "output_type": "display_data"
    }
   ],
   "source": [
    "%matplotlib inline  \n",
    "import seaborn as sns\n",
    "sns.barplot(x=range(len(scores)), y=scores)\n",
    "scores"
   ]
  },
  {
   "cell_type": "code",
   "execution_count": null,
   "metadata": {
    "collapsed": true
   },
   "outputs": [],
   "source": []
  }
 ],
 "metadata": {
  "kernelspec": {
   "display_name": "Python 2",
   "language": "python",
   "name": "python2"
  },
  "language_info": {
   "codemirror_mode": {
    "name": "ipython",
    "version": 2
   },
   "file_extension": ".py",
   "mimetype": "text/x-python",
   "name": "python",
   "nbconvert_exporter": "python",
   "pygments_lexer": "ipython2",
   "version": "2.7.11"
  }
 },
 "nbformat": 4,
 "nbformat_minor": 0
}
