{
 "cells": [
  {
   "cell_type": "markdown",
   "metadata": {},
   "source": [
    "# Udacity - Machine Learning Nano Degree - Capstone Project\n",
    "\n",
    "In this project I build an android application that will recognize numbers using the cameras image stream from the device.\n",
    "\n",
    "## Overview\n",
    "To build this project there are 2 major steps...\n",
    "\n",
    "#### 1. Building the classifier\n",
    " - Attain and preprocess data\n",
    " - Run hyperparameter search\n",
    " \n",
    "#### 2. Creating the android application\n",
    " - Install bazel build chain\n",
    " - Build tensorflow freeze_graph\n",
    " - Freeze tensorflow model\n",
    " - Build and install android app\n",
    "    \n",
    "\n",
    "# Building the classifier\n",
    "### Requirements\n",
    "\n",
    "- anaconda2 installation for python 2.7\n",
    "- tensorflow python libraries\n",
    "\n",
    "### Steps\n",
    "#### 1. Attain and preprocess data\n",
    "- Download the [train](http://ufldl.stanford.edu/housenumbers/train.tar.gz) data and extract into a folder called **train**\n",
    "- Download the [test](http://ufldl.stanford.edu/housenumbers/test.tar.gz) data and extract into a folder called **test**\n",
    "- Open the notebook **01 - Explore and preprocess images.ipynb** and run all the steps to create the training and testing datasets.\n",
    "\n",
    "#### 2. Run the hyperparameter search\n",
    "- Modify and configuration for the hyper parameter search in **run_search.py**\n",
    "- Run the search\n",
    "```\n",
    "python run_search.py\n",
    "```\n",
    "- Investigate the results file **results-xmins.csv** for the results summary, where x is the number of minutes.\n",
    "- Investigate the log file in the directory **./log**. The filename is in date format **yy-mm-dd-hh-nn-ss.log**\n",
    "- Investigate the saved models in the directory **./save**. The filename is in date format **yy-mm-dd-hh-nn-ss.log**\n",
    "\n",
    "\n",
    "\n"
   ]
  },
  {
   "cell_type": "markdown",
   "metadata": {
    "collapsed": true
   },
   "source": [
    "# Creating the android application"
   ]
  },
  {
   "cell_type": "code",
   "execution_count": null,
   "metadata": {
    "collapsed": true
   },
   "outputs": [],
   "source": []
  },
  {
   "cell_type": "code",
   "execution_count": null,
   "metadata": {
    "collapsed": true
   },
   "outputs": [],
   "source": []
  }
 ],
 "metadata": {
  "kernelspec": {
   "display_name": "Python 2",
   "language": "python",
   "name": "python2"
  },
  "language_info": {
   "codemirror_mode": {
    "name": "ipython",
    "version": 2
   },
   "file_extension": ".py",
   "mimetype": "text/x-python",
   "name": "python",
   "nbconvert_exporter": "python",
   "pygments_lexer": "ipython2",
   "version": "2.7.10"
  }
 },
 "nbformat": 4,
 "nbformat_minor": 0
}
