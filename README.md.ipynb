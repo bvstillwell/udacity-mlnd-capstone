{
 "cells": [
  {
   "cell_type": "markdown",
   "metadata": {},
   "source": [
    "# Udacity - Machine Learning Nano Degree - Capstone Project\n",
    "\n",
    "In this project I build an android application that will recognize numbers using the cameras image stream from the device.\n",
    "\n",
    "Here you will find a report, a number of jupyter notebooks for data processing and analysis as well as the code to build the classifier and android app.\n",
    "\n",
    "# Report\n",
    "- [capstone-project-deep-learning.pdf](capstone-project-deep-learning.pdf)\n",
    "\n",
    "# Notebooks\n",
    "\n",
    "- [01 - Explore and preprocess images.ipynb](01 - Explore and preprocess images.ipynb)\n",
    "- [02 - Minimal train, test and score.ipynb](02 - Minimal train, test and score.ipynb)\n",
    "- [03 - Results processing.ipynb](03 - Results processing.ipynb)\n",
    "- [04 - Investigate convolutional weights.ipynb](04 - Investigate convolutional weights.ipynb)\n",
    "\n",
    "# Build classifier and android application\n",
    "To build this project there are 2 major steps...\n",
    "\n",
    "#### 1. Building the classifier\n",
    " - Attain and preprocess data\n",
    " - Run hyperparameter search\n",
    " \n",
    "#### 2. Creating the android application\n",
    " - Freeze tensorflow model\n",
    " - Build and install android app\n",
    "    \n",
    "\n",
    "# Building the classifier\n",
    "### Requirements\n",
    "\n",
    "- anaconda2 installation for python 2.7\n",
    "- tensorflow python libraries\n",
    "\n",
    "### Steps\n",
    "#### 1. Attain and preprocess data\n",
    "- Download the [train](http://ufldl.stanford.edu/housenumbers/train.tar.gz) data and extract into a folder called **train**\n",
    "- Download the [test](http://ufldl.stanford.edu/housenumbers/test.tar.gz) data and extract into a folder called **test**\n",
    "- Open the notebook **01 - Explore and preprocess images.ipynb** and run all the steps to create the training and testing datasets.\n",
    "\n",
    "#### 2. Run the hyperparameter search\n",
    "- Modify and configuration for the hyper parameter search in **run_search.py**\n",
    "- Run the search\n",
    "```bash\n",
    "python run_search.py\n",
    "```\n",
    "- Investigate the results file **results-xmins.csv** for the results summary, where x is the number of minutes chosen to run each graph.\n",
    "- Investigate the log file in the directory **./log**. The filename is in date format **yy-mm-dd-hh-nn-ss.log**\n",
    "- Investigate the saved models in the directory **./save**. The filename is in date format **yy-mm-dd-hh-nn-ss**"
   ]
  },
  {
   "cell_type": "markdown",
   "metadata": {
    "collapsed": true
   },
   "source": [
    "# Creating the android application\n",
    "### Requirements\n",
    "- A clone of [TensorFlow (0.9)](https://github.com/tensorflow/tensorflow)\n",
    "- TensorFlow building locally. [Instructions](https://www.tensorflow.org/versions/r0.9/get_started/os_setup.html#download-and-setup)\n",
    "- TensorFlow freeze_graph built. [Instructions](https://github.com/tensorflow/tensorflow/blob/master/tensorflow/python/tools/freeze_graph.py#L27)\n",
    "- An android device setup to allow application installations via adb. [Instructions](https://developer.android.com/studio/command-line/adb.html)\n",
    "\n",
    "### Steps\n",
    "#### 1. Freeze tensorflow model\n",
    "In order to use the model in an android app, you must freeze the weights into the model and copy this into the correct directory. To do this follow these steps,\n",
    "- Select the model that you would like to use in the android application. You will need that models **save_name** as recorded in the results and log file. It will be in the format **yy-mm-dd-hh-nn-ss**\n",
    "- Setup the local file **freeze_graph.sh** to point to your local version of tensorflow freeze_graph application\n",
    "- Setup the local file **freeze_graph.sh** to be executable\n",
    "\n",
    "```bash\n",
    "$ chmod +x freeze_graph.sh\n",
    "```\n",
    "\n",
    "- Freeze the graph by executing the bash script. For example\n",
    "\n",
    "```bash\n",
    "$ ./freeze_graph.sh 16-08-09-22-46-55\n",
    "```\n",
    "\n",
    "- Check a file called **frozen_graph.pb** have been copiied into the **android/assets** directory.\n",
    "\n",
    "#### 2. Build and install android app\n",
    "To build and install the android app you will need to replace the tensorflow directory  **tensorflow/tensorflow/examples/android/** with the **android** directory in this repo. \n",
    "- To do this there are 2 options\n",
    " 1. Option 1, copy the local android directory over the tensorflow one.\n",
    " 2. Option 2, delete the android directory in tensorflow and use a symlink to the android folder in this repo.\n",
    " \n",
    "\n",
    "- Setup your device with adb to receive the application\n",
    "- Build and install the android demo as normal with these [instructions]( https://github.com/tensorflow/tensorflow/tree/master/tensorflow/examples/android), or run\n",
    "```bash\n",
    "$ bazel mobile-install //tensorflow/examples/android:tensorflow_demo\n",
    "```\n",
    "- Check your device has the applicaton **TensorFlow demo** installed.\n",
    "- Have fun!!!"
   ]
  },
  {
   "cell_type": "code",
   "execution_count": null,
   "metadata": {
    "collapsed": true
   },
   "outputs": [],
   "source": []
  },
  {
   "cell_type": "code",
   "execution_count": null,
   "metadata": {
    "collapsed": true
   },
   "outputs": [],
   "source": []
  }
 ],
 "metadata": {
  "kernelspec": {
   "display_name": "Python 2",
   "language": "python",
   "name": "python2"
  },
  "language_info": {
   "codemirror_mode": {
    "name": "ipython",
    "version": 2
   },
   "file_extension": ".py",
   "mimetype": "text/x-python",
   "name": "python",
   "nbconvert_exporter": "python",
   "pygments_lexer": "ipython2",
   "version": "2.7.11"
  }
 },
 "nbformat": 4,
 "nbformat_minor": 0
}
