{
 "cells": [
  {
   "cell_type": "code",
   "execution_count": 1,
   "metadata": {
    "collapsed": true
   },
   "outputs": [],
   "source": [
    "# These are all the modules we'll be using later. Make sure you can import them\n",
    "# before proceeding further.\n",
    "from __future__ import print_function\n",
    "import numpy as np\n",
    "import tensorflow as tf\n",
    "from six.moves import cPickle as pickle\n",
    "from six.moves import range\n",
    "import time\n",
    "import os\n",
    "from common import *\n",
    "\n",
    "import matplotlib.pyplot as plt\n",
    "%matplotlib inline\n",
    "\n",
    "%load_ext autoreload\n",
    "%autoreload 2"
   ]
  },
  {
   "cell_type": "code",
   "execution_count": 2,
   "metadata": {
    "collapsed": false
   },
   "outputs": [
    {
     "data": {
      "application/javascript": [
       "IPython.OutputArea.auto_scroll_threshold = 9999;"
      ],
      "text/plain": [
       "<IPython.core.display.Javascript object>"
      ]
     },
     "metadata": {},
     "output_type": "display_data"
    }
   ],
   "source": [
    "%%javascript\n",
    "IPython.OutputArea.auto_scroll_threshold = 9999;"
   ]
  },
  {
   "cell_type": "code",
   "execution_count": 3,
   "metadata": {
    "collapsed": false
   },
   "outputs": [
    {
     "name": "stdout",
     "output_type": "stream",
     "text": [
      "Training set (31402, 56, 56) (31402,)\n",
      "Validation set (2000, 56, 56) (2000,)\n",
      "Test set (13068, 56, 56) (13068,)\n"
     ]
    }
   ],
   "source": [
    "with open('SVHN_train.pickle', 'rb') as f:\n",
    "    tmp_save = pickle.load(f)\n",
    "    train_dataset_56 = tmp_save['dataset']\n",
    "    train_labels = tmp_save['labels']\n",
    "    \n",
    "valid_size = 2000\n",
    "valid_dataset_56 = train_dataset_56[:valid_size]\n",
    "valid_labels = train_labels[:valid_size]\n",
    "train_dataset_56 = train_dataset_56[valid_size:]\n",
    "train_labels = train_labels[valid_size:]\n",
    "\n",
    "with open('SVHN_test.pickle', 'rb') as f:\n",
    "    tmp_save = pickle.load(f)\n",
    "    test_dataset_56 = tmp_save['dataset']\n",
    "    test_labels = tmp_save['labels']\n",
    "    \n",
    "print('Training set', train_dataset_56.shape, train_labels.shape)\n",
    "print('Validation set', valid_dataset_56.shape, valid_labels.shape)\n",
    "print('Test set', test_dataset_56.shape, test_labels.shape)   "
   ]
  },
  {
   "cell_type": "code",
   "execution_count": 4,
   "metadata": {
    "collapsed": false
   },
   "outputs": [
    {
     "name": "stdout",
     "output_type": "stream",
     "text": [
      "Training set (30041, 56, 56) (30041,)\n",
      "Validation set (1917, 56, 56) (1917,)\n",
      "Test set (12920, 56, 56) (12920,)\n"
     ]
    }
   ],
   "source": [
    "num_digits = 3\n",
    "def trim_max_digits(dataset, labels, max_digits):\n",
    "    keep = [i for i, label in enumerate(labels) if len(label) <= max_digits]\n",
    "    return dataset[keep], labels[keep]\n",
    "\n",
    "train_dataset_56, train_labels = trim_max_digits(train_dataset_56, train_labels, num_digits)\n",
    "valid_dataset_56, valid_labels = trim_max_digits(valid_dataset_56, valid_labels, num_digits)\n",
    "test_dataset_56, test_labels = trim_max_digits(test_dataset_56, test_labels, num_digits)\n",
    "print('Training set', train_dataset_56.shape, train_labels.shape)\n",
    "print('Validation set', valid_dataset_56.shape, valid_labels.shape)\n",
    "print('Test set', test_dataset_56.shape, test_labels.shape) "
   ]
  },
  {
   "cell_type": "code",
   "execution_count": 5,
   "metadata": {
    "collapsed": true
   },
   "outputs": [],
   "source": [
    "def show_image(img, label):\n",
    "    print(\"Labels\", label)\n",
    "    print(\"Dtype\", img.dtype)\n",
    "    print(\"Shape\", img.shape)\n",
    "    print(\"Color range\", np.min(img), np.max(img))\n",
    "    if len(img.shape) > 2:\n",
    "        plt.imshow(np.reshape(img, img.shape[:2]))\n",
    "    else:\n",
    "        plt.imshow(img)\n",
    "    plt.show()\n",
    "    \n",
    "def show_images(imgs, labels, num=3):\n",
    "    for i in range(num):\n",
    "        num = np.random.randint(imgs.shape[0])\n",
    "        show_image(imgs[num], labels[num])"
   ]
  },
  {
   "cell_type": "code",
   "execution_count": 6,
   "metadata": {
    "collapsed": false
   },
   "outputs": [
    {
     "name": "stdout",
     "output_type": "stream",
     "text": [
      "Training set (30041, 56, 56, 1) (30041, 3, 11)\n",
      "Validation set (1917, 56, 56, 1) (1917, 3, 11)\n",
      "Test set (12920, 56, 56, 1) (12920, 3, 11)\n"
     ]
    }
   ],
   "source": [
    "num_labels = 11 # Add an extra character so we can deal with spaces\n",
    "num_channels = 1 # grayscale\n",
    "\n",
    "def reformat(dataset, labels):\n",
    "    dataset_output = dataset.reshape(list(dataset.shape) + [1]).astype(np.float32)\n",
    "    labels_output = np.array([np.array([(np.arange(num_labels) == l).astype(np.float32) \n",
    "                        for l in np.append(row, [num_labels-1] * (num_digits - len(row)), 0)])\n",
    "              for row in labels])\n",
    "    return dataset_output, labels_output\n",
    "\n",
    "train_dataset_56, train_labels = reformat(train_dataset_56, train_labels)\n",
    "valid_dataset_56, valid_labels = reformat(valid_dataset_56, valid_labels)\n",
    "test_dataset_56, test_labels = reformat(test_dataset_56, test_labels)\n",
    "\n",
    "print('Training set', train_dataset_56.shape, train_labels.shape)\n",
    "print('Validation set', valid_dataset_56.shape, valid_labels.shape)\n",
    "print('Test set', test_dataset_56.shape, test_labels.shape)"
   ]
  },
  {
   "cell_type": "code",
   "execution_count": 7,
   "metadata": {
    "collapsed": false
   },
   "outputs": [
    {
     "name": "stdout",
     "output_type": "stream",
     "text": [
      "Training set (30041, 28, 28, 1) (30041, 3, 11)\n",
      "Validation set (1917, 28, 28, 1) (1917, 3, 11)\n",
      "Test set (6000, 28, 28, 1) (6000, 3, 11)\n"
     ]
    }
   ],
   "source": [
    "#Limit test set as it's killing the box\n",
    "test_dataset_56 = test_dataset_56[:6000]\n",
    "test_labels = test_labels[:6000]\n",
    "\n",
    "# Create a pit sized \n",
    "train_dataset_28 = train_dataset_56[:, ::2, ::2, :]\n",
    "valid_dataset_28 = valid_dataset_56[:, ::2, ::2, :]\n",
    "test_dataset_28 = test_dataset_56[:, ::2, ::2, :]\n",
    "print('Training set', train_dataset_28.shape, train_labels.shape)\n",
    "print('Validation set', valid_dataset_28.shape, valid_labels.shape)\n",
    "print('Test set', test_dataset_28.shape, test_labels.shape)"
   ]
  },
  {
   "cell_type": "code",
   "execution_count": 8,
   "metadata": {
    "collapsed": false
   },
   "outputs": [],
   "source": [
    "dataset_56 = (train_dataset_56, valid_dataset_56, test_dataset_56)\n",
    "dataset_28 = (train_dataset_28, valid_dataset_28, test_dataset_28)"
   ]
  },
  {
   "cell_type": "code",
   "execution_count": null,
   "metadata": {
    "collapsed": true
   },
   "outputs": [],
   "source": [
    "train_dataset, valid_dataset, test_dataset = dataset_28\n",
    "\n",
    "def run(graph_config):\n",
    "    graph = create_graph(num_digits, num_labels, valid_dataset, test_dataset, **graph_config) \n",
    "    run_graph(graph, num_digits, train_dataset, train_labels, valid_labels, test_labels, \n",
    "              mins=10, save_model=True)\n",
    "    return graph"
   ]
  },
  {
   "cell_type": "code",
   "execution_count": null,
   "metadata": {
    "collapsed": false
   },
   "outputs": [
    {
     "name": "stdout",
     "output_type": "stream",
     "text": [
      "Initialized\n",
      "Elapsed time(s):17/600 (0.03%)\n",
      "Learning rate: 0.249353\n",
      "Minibatch loss at step 500: 1.374956\n",
      "Minibatch accuracy: 75.0%\n",
      "Validation accuracy: 55.2%\n",
      "Elapsed time(s):38/600 (0.06%)\n",
      "Learning rate: 0.248708\n",
      "Minibatch loss at step 1000: 1.343120\n",
      "Minibatch accuracy: 87.5%\n",
      "Validation accuracy: 65.8%\n",
      "Elapsed time(s):58/600 (0.10%)\n",
      "Learning rate: 0.248066\n",
      "Minibatch loss at step 1500: 0.829576\n",
      "Minibatch accuracy: 91.7%\n",
      "Validation accuracy: 70.5%\n",
      "Elapsed time(s):79/600 (0.13%)\n",
      "Learning rate: 0.247424\n",
      "Minibatch loss at step 2000: 1.161056\n",
      "Minibatch accuracy: 85.4%\n",
      "Validation accuracy: 72.0%\n",
      "Elapsed time(s):99/600 (0.17%)\n",
      "Learning rate: 0.246785\n",
      "Minibatch loss at step 2500: 0.690728\n",
      "Minibatch accuracy: 87.5%\n",
      "Validation accuracy: 74.8%"
     ]
    }
   ],
   "source": [
    "graph = run({'use_dropout':True,\n",
    "             'use_max_pool':True,\n",
    "             'learning_rate':0.25,\n",
    "             'num_hidden':192,\n",
    "             'depth1':32})"
   ]
  },
  {
   "cell_type": "code",
   "execution_count": null,
   "metadata": {
    "collapsed": false
   },
   "outputs": [],
   "source": [
    "from scipy import ndimage\n",
    "import scipy.misc as spm\n",
    "import scipy.ndimage as spn\n",
    "\n",
    "image_data = ndimage.imread('pic.png')\n",
    "\n",
    "plt.imshow(image_data)\n",
    "plt.show()\n",
    "print(image_data.shape)\n",
    "\n",
    "# for i in range(4):\n",
    "#     plt.imshow(image_data[:, :, i])\n",
    "#     plt.show()\n",
    "\n",
    "image_data = image_data[:, :, :3]\n",
    "print(image_data.shape)\n",
    "image_data = image_data[::2, ::2, :]\n",
    "image_data = np.reshape(image_data, [1, 28, 28, 3])\n",
    "print(image_data.shape)\n",
    "\n",
    "print(np.min(image_data), np.max(image_data))\n",
    "image_data = (image_data - np.mean(image_data)) / np.std(image_data)\n",
    "print(np.min(image_data), np.max(image_data))\n",
    "\n",
    "# for i in range(3):\n",
    "#     plt.imshow(image_data[0, :, :, i])\n",
    "#     plt.show()"
   ]
  },
  {
   "cell_type": "code",
   "execution_count": null,
   "metadata": {
    "collapsed": false
   },
   "outputs": [],
   "source": [
    "np.set_printoptions(formatter={'float': lambda x: \"{0:0.3f}\".format(x)})\n",
    "np.set_printoptions(linewidth=200)\n",
    "\n",
    "with tf.Session(graph=graph) as session:\n",
    "    tf.initialize_all_variables().run()\n",
    "    \n",
    "\n",
    "r = np.clip(np.array(result), -0.5, 0.5)\n",
    "print(r)\n",
    "np.reshape(r, [5, -1])"
   ]
  },
  {
   "cell_type": "code",
   "execution_count": null,
   "metadata": {
    "collapsed": false
   },
   "outputs": [],
   "source": []
  },
  {
   "cell_type": "code",
   "execution_count": null,
   "metadata": {
    "collapsed": false
   },
   "outputs": [],
   "source": [
    "with tf.Session(graph=graph) as sess:\n",
    "    saver = tf.train.Saver(tf.all_variables())\n",
    "    sess.run(tf.initialize_all_variables())\n",
    "    \n",
    "    # Here's where you're restoring the variables w and b.\n",
    "    # Note that the graph is exactly as it was when the variables were\n",
    "    # saved in a prior training run.\n",
    "    \n",
    "    checkpoint_path = os.path.join('save', 'model.ckpt')\n",
    "    ckpt = tf.train.get_checkpoint_state('save')\n",
    "    if ckpt and ckpt.model_checkpoint_path:\n",
    "        saver.restore(sess, ckpt.model_checkpoint_path)\n",
    "        \n",
    "    predict_single_output = graph.get_tensor_by_name('predict_single_output:0')\n",
    "    tf_predict_single_dataset = graph.get_tensor_by_name('tf_predict_single_dataset:0')\n",
    "    feed_dict = {tf_predict_single_dataset : image_data}\n",
    "    result = predict_single_output.eval(feed_dict=feed_dict)\n",
    "                \n",
    "    tf_train_dataset = graph.get_tensor_by_name('tf_train_dataset:0')\n",
    "    tf_train_labels = [graph.get_tensor_by_name('tf_train_labels_%d:0' % i) for i in range(num_digits)]\n",
    "    train_prediction = [graph.get_tensor_by_name('train_prediction_%d:0' % i) for i in range(num_digits)]\n",
    "    valid_prediction = [graph.get_tensor_by_name('valid_prediction_%d:0' % i) for i in range(num_digits)]\n",
    "    test_prediction = [graph.get_tensor_by_name('test_prediction_%d:0' % i) for i in range(num_digits)]\n",
    "    optimizer = graph.get_tensor_by_name('optimizer:0')\n",
    "    loss = graph.get_tensor_by_name('loss:0')\n",
    "    learning_rate = graph.get_tensor_by_name('learning_rate:0')\n",
    "            \n",
    "    results = sess.run(test_prediction)\n",
    "    "
   ]
  },
  {
   "cell_type": "code",
   "execution_count": null,
   "metadata": {
    "collapsed": true
   },
   "outputs": [],
   "source": []
  },
  {
   "cell_type": "code",
   "execution_count": null,
   "metadata": {
    "collapsed": false
   },
   "outputs": [],
   "source": [
    "with tf.Session(graph=graph) as sess:\n",
    "    saver = tf.train.Saver(tf.all_variables())\n",
    "    sess.run(tf.initialize_all_variables())\n",
    "    \n",
    "    # Here's where you're restoring the variables w and b.\n",
    "    # Note that the graph is exactly as it was when the variables were\n",
    "    # saved in a prior training run.\n",
    "    \n",
    "    checkpoint_path = os.path.join('save', 'model.ckpt')\n",
    "    ckpt = tf.train.get_checkpoint_state('save')\n",
    "    if ckpt and ckpt.model_checkpoint_path:\n",
    "        saver.restore(sess, ckpt.model_checkpoint_path)\n",
    "        \n",
    "    predict_single_output = graph.get_tensor_by_name('predict_single_output:0')\n",
    "    tf_predict_single_dataset = graph.get_tensor_by_name('tf_predict_single_dataset:0')\n",
    "    feed_dict = {tf_predict_single_dataset : image_data}\n",
    "    result = predict_single_output.eval(feed_dict=feed_dict)"
   ]
  },
  {
   "cell_type": "code",
   "execution_count": null,
   "metadata": {
    "collapsed": false
   },
   "outputs": [],
   "source": [
    "m = np.reshape(result, [5, -1])\n",
    "print(np.apply_along_axis(np.argmax, 1, m))"
   ]
  },
  {
   "cell_type": "code",
   "execution_count": null,
   "metadata": {
    "collapsed": false
   },
   "outputs": [],
   "source": [
    "r = np.array(results)\n",
    "r.shape\n",
    "\n",
    "for i in range(110, 110):\n",
    "    img = test_dataset[i]\n",
    "    plt.imshow(np.reshape(img, img.shape[:2]))\n",
    "    plt.show()\n",
    "    print(np.apply_along_axis(np.argmax, 1, test_labels[i]))\n",
    "    n = r[:, i, :]\n",
    "    print(np.apply_along_axis(np.argmax, 1, n))"
   ]
  },
  {
   "cell_type": "code",
   "execution_count": null,
   "metadata": {
    "collapsed": false
   },
   "outputs": [],
   "source": [
    "image_data.shape"
   ]
  },
  {
   "cell_type": "code",
   "execution_count": null,
   "metadata": {
    "collapsed": false
   },
   "outputs": [],
   "source": [
    "img_height, img_width = 28, 28\n",
    "\n",
    "def graph_play():\n",
    "    graph = tf.Graph()\n",
    "    \n",
    "    with graph.as_default():\n",
    "\n",
    "         # Create a single input tensor for use in the phone\n",
    "        tf_predict_single_dataset = tf.placeholder(tf.float32, shape=(1,\n",
    "                                                           img_height,\n",
    "                                                           img_width,\n",
    "                                                           3), name=\"input\")\n",
    "        \n",
    "        conv = tf.reduce_mean(tf_predict_single_dataset, 3)\n",
    "        print(conv.get_shape().as_list())\n",
    "        # Shape it correctly\n",
    "        conv = tf.reshape(conv, conv.get_shape().as_list() + [1], name='output')\n",
    "        # Move the color range\n",
    "        print(conv.get_shape().as_list())\n",
    "        conv = tf.add(tf.div(conv, 255), -0.5, name='output')\n",
    "        print(conv.get_shape().as_list())\n",
    "\n",
    "    return graph\n",
    "\n",
    "def run(graph):\n",
    "    \n",
    "    session = tf.Session(graph=graph);\n",
    "    \n",
    "    with tf.Session(graph=graph) as session:\n",
    "        tf.initialize_all_variables().run()\n",
    "        \n",
    "        tf_input = graph.get_tensor_by_name('input:0')\n",
    "        \n",
    "        tf_output = graph.get_tensor_by_name('output:0')\n",
    "        \n",
    "        feed_dict = {tf_input : image_data}        \n",
    "        \n",
    "        result = tf_output.eval(feed_dict=feed_dict)\n",
    "        \n",
    "    return result\n",
    "        \n",
    "result = run(graph_play())"
   ]
  },
  {
   "cell_type": "code",
   "execution_count": null,
   "metadata": {
    "collapsed": false
   },
   "outputs": [],
   "source": [
    "result.shape"
   ]
  },
  {
   "cell_type": "code",
   "execution_count": null,
   "metadata": {
    "collapsed": true
   },
   "outputs": [],
   "source": []
  }
 ],
 "metadata": {
  "kernelspec": {
   "display_name": "Python 2",
   "language": "python",
   "name": "python2"
  },
  "language_info": {
   "codemirror_mode": {
    "name": "ipython",
    "version": 2
   },
   "file_extension": ".py",
   "mimetype": "text/x-python",
   "name": "python",
   "nbconvert_exporter": "python",
   "pygments_lexer": "ipython2",
   "version": "2.7.10"
  }
 },
 "nbformat": 4,
 "nbformat_minor": 0
}
