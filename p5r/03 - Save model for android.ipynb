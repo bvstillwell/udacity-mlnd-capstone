{
 "cells": [
  {
   "cell_type": "code",
   "execution_count": 2,
   "metadata": {
    "collapsed": true
   },
   "outputs": [],
   "source": [
    "# These are all the modules we'll be using later. Make sure you can import them\n",
    "# before proceeding further.\n",
    "from __future__ import print_function\n",
    "import numpy as np\n",
    "import tensorflow as tf\n",
    "from six.moves import cPickle as pickle\n",
    "from six.moves import range\n",
    "import time\n",
    "import os\n",
    "\n",
    "import matplotlib.pyplot as plt\n",
    "%matplotlib inline"
   ]
  },
  {
   "cell_type": "code",
   "execution_count": 3,
   "metadata": {
    "collapsed": false
   },
   "outputs": [
    {
     "data": {
      "application/javascript": [
       "IPython.OutputArea.auto_scroll_threshold = 9999;"
      ],
      "text/plain": [
       "<IPython.core.display.Javascript object>"
      ]
     },
     "metadata": {},
     "output_type": "display_data"
    }
   ],
   "source": [
    "%%javascript\n",
    "IPython.OutputArea.auto_scroll_threshold = 9999;"
   ]
  },
  {
   "cell_type": "code",
   "execution_count": 4,
   "metadata": {
    "collapsed": false
   },
   "outputs": [
    {
     "name": "stdout",
     "output_type": "stream",
     "text": [
      "Training set (31402, 56, 56) (31402,)\n",
      "Validation set (2000, 56, 56) (2000,)\n",
      "Test set (13068, 56, 56) (13068,)\n"
     ]
    }
   ],
   "source": [
    "with open('SVHN_train.pickle', 'rb') as f:\n",
    "    tmp_save = pickle.load(f)\n",
    "    train_dataset_56 = tmp_save['dataset']\n",
    "    train_labels = tmp_save['labels']\n",
    "    \n",
    "valid_size = 2000\n",
    "valid_dataset_56 = train_dataset_56[:valid_size]\n",
    "valid_labels = train_labels[:valid_size]\n",
    "train_dataset_56 = train_dataset_56[valid_size:]\n",
    "train_labels = train_labels[valid_size:]\n",
    "\n",
    "with open('SVHN_test.pickle', 'rb') as f:\n",
    "    tmp_save = pickle.load(f)\n",
    "    test_dataset_56 = tmp_save['dataset']\n",
    "    test_labels = tmp_save['labels']\n",
    "    \n",
    "print('Training set', train_dataset_56.shape, train_labels.shape)\n",
    "print('Validation set', valid_dataset_56.shape, valid_labels.shape)\n",
    "print('Test set', test_dataset_56.shape, test_labels.shape)   "
   ]
  },
  {
   "cell_type": "code",
   "execution_count": 5,
   "metadata": {
    "collapsed": false
   },
   "outputs": [
    {
     "name": "stdout",
     "output_type": "stream",
     "text": [
      "Training set (30041, 56, 56) (30041,)\n",
      "Validation set (1917, 56, 56) (1917,)\n",
      "Test set (12920, 56, 56) (12920,)\n"
     ]
    }
   ],
   "source": [
    "num_digits = 3\n",
    "def trim_max_digits(dataset, labels, max_digits):\n",
    "    keep = [i for i, label in enumerate(labels) if len(label) <= max_digits]\n",
    "    return dataset[keep], labels[keep]\n",
    "\n",
    "train_dataset_56, train_labels = trim_max_digits(train_dataset_56, train_labels, num_digits)\n",
    "valid_dataset_56, valid_labels = trim_max_digits(valid_dataset_56, valid_labels, num_digits)\n",
    "test_dataset_56, test_labels = trim_max_digits(test_dataset_56, test_labels, num_digits)\n",
    "print('Training set', train_dataset_56.shape, train_labels.shape)\n",
    "print('Validation set', valid_dataset_56.shape, valid_labels.shape)\n",
    "print('Test set', test_dataset_56.shape, test_labels.shape) "
   ]
  },
  {
   "cell_type": "code",
   "execution_count": 6,
   "metadata": {
    "collapsed": true
   },
   "outputs": [],
   "source": [
    "def show_image(img, label):\n",
    "    print(\"Labels\", label)\n",
    "    print(\"Dtype\", img.dtype)\n",
    "    print(\"Shape\", img.shape)\n",
    "    print(\"Color range\", np.min(img), np.max(img))\n",
    "    if len(img.shape) > 2:\n",
    "        plt.imshow(np.reshape(img, img.shape[:2]))\n",
    "    else:\n",
    "        plt.imshow(img)\n",
    "    plt.show()\n",
    "    \n",
    "def show_images(imgs, labels, num=3):\n",
    "    for i in range(num):\n",
    "        num = np.random.randint(imgs.shape[0])\n",
    "        show_image(imgs[num], labels[num])"
   ]
  },
  {
   "cell_type": "code",
   "execution_count": 7,
   "metadata": {
    "collapsed": false
   },
   "outputs": [
    {
     "name": "stdout",
     "output_type": "stream",
     "text": [
      "Training set (30041, 56, 56, 1) (30041, 3, 11)\n",
      "Validation set (1917, 56, 56, 1) (1917, 3, 11)\n",
      "Test set (12920, 56, 56, 1) (12920, 3, 11)\n"
     ]
    }
   ],
   "source": [
    "num_labels = 11 # Add an extra character so we can deal with spaces\n",
    "num_channels = 1 # grayscale\n",
    "\n",
    "def reformat(dataset, labels):\n",
    "    dataset_output = dataset.reshape(list(dataset.shape) + [1]).astype(np.float32)\n",
    "    labels_output = np.array([np.array([(np.arange(num_labels) == l).astype(np.float32) \n",
    "                        for l in np.append(row, [num_labels-1] * (num_digits - len(row)), 0)])\n",
    "              for row in labels])\n",
    "    return dataset_output, labels_output\n",
    "\n",
    "train_dataset_56, train_labels = reformat(train_dataset_56, train_labels)\n",
    "valid_dataset_56, valid_labels = reformat(valid_dataset_56, valid_labels)\n",
    "test_dataset_56, test_labels = reformat(test_dataset_56, test_labels)\n",
    "\n",
    "print('Training set', train_dataset_56.shape, train_labels.shape)\n",
    "print('Validation set', valid_dataset_56.shape, valid_labels.shape)\n",
    "print('Test set', test_dataset_56.shape, test_labels.shape)"
   ]
  },
  {
   "cell_type": "code",
   "execution_count": 8,
   "metadata": {
    "collapsed": false
   },
   "outputs": [
    {
     "name": "stdout",
     "output_type": "stream",
     "text": [
      "Training set (30041, 28, 28, 1) (30041, 3, 11)\n",
      "Validation set (1917, 28, 28, 1) (1917, 3, 11)\n",
      "Test set (6000, 28, 28, 1) (6000, 3, 11)\n"
     ]
    }
   ],
   "source": [
    "#Limit test set as it's killing the box\n",
    "test_dataset_56 = test_dataset_56[:6000]\n",
    "test_labels = test_labels[:6000]\n",
    "\n",
    "# Create a pit sized \n",
    "train_dataset_28 = train_dataset_56[:, ::2, ::2, :]\n",
    "valid_dataset_28 = valid_dataset_56[:, ::2, ::2, :]\n",
    "test_dataset_28 = test_dataset_56[:, ::2, ::2, :]\n",
    "print('Training set', train_dataset_28.shape, train_labels.shape)\n",
    "print('Validation set', valid_dataset_28.shape, valid_labels.shape)\n",
    "print('Test set', test_dataset_28.shape, test_labels.shape)"
   ]
  },
  {
   "cell_type": "code",
   "execution_count": 9,
   "metadata": {
    "collapsed": false
   },
   "outputs": [],
   "source": [
    "dataset_56 = (train_dataset_56, valid_dataset_56, test_dataset_56)\n",
    "dataset_28 = (train_dataset_28, valid_dataset_28, test_dataset_28)"
   ]
  },
  {
   "cell_type": "code",
   "execution_count": 10,
   "metadata": {
    "collapsed": false
   },
   "outputs": [],
   "source": [
    "def accuracy(predictions, labels):\n",
    "    return (100.0 * np.sum(np.argmax(predictions, 1) == np.argmax(labels, 1))\n",
    "          / predictions.shape[0])\n",
    "\n",
    "def accuracy_list(predictions, labels):\n",
    "    result = np.mean([accuracy(predictions[i],\n",
    "                               labels[:, i, :])\n",
    "                        for i in range(num_digits)])\n",
    "    return result\n",
    "\n",
    "def run_graph(graph, train_dataset):\n",
    "    start_time = time.time()\n",
    "        \n",
    "    batch_size=16\n",
    "    \n",
    "    num_steps = 1000001\n",
    "    save_steps = 100000\n",
    "    eval_steps = 500\n",
    "    valid_steps = 500\n",
    "    timeout = 5 * 60 # 30 minutes * 60 seconds\n",
    "        \n",
    "    tf_train_dataset = graph.get_tensor_by_name('tf_train_dataset:0')\n",
    "    tf_train_labels = [graph.get_tensor_by_name('tf_train_labels_%d:0' % i) for i in range(num_digits)]\n",
    "    train_prediction = [graph.get_tensor_by_name('train_prediction_%d:0' % i) for i in range(num_digits)]\n",
    "    valid_prediction = [graph.get_tensor_by_name('valid_prediction_%d:0' % i) for i in range(num_digits)]\n",
    "    test_prediction = [graph.get_tensor_by_name('test_prediction_%d:0' % i) for i in range(num_digits)]\n",
    "    optimizer = graph.get_tensor_by_name('optimizer:0')\n",
    "    loss = graph.get_tensor_by_name('loss:0')\n",
    "    learning_rate = graph.get_tensor_by_name('learning_rate:0')\n",
    "    \n",
    "    session = tf.Session(graph=graph);\n",
    "    with tf.Session(graph=graph) as session:\n",
    "        tf.initialize_all_variables().run()\n",
    "        saver = tf.train.Saver(tf.all_variables())\n",
    "\n",
    "        print('Initialized')\n",
    "        for step in range(num_steps):\n",
    "            offset = (step * batch_size) % (train_labels.shape[0] - batch_size)\n",
    "\n",
    "            batch_data = train_dataset[offset:(offset + batch_size), :, :, :]\n",
    "            batch_labels = train_labels[offset:(offset + batch_size), :]\n",
    "\n",
    "\n",
    "            feed_dict = {tf_train_labels[i] : batch_labels[:, i, :] for i in range(num_digits)}\n",
    "            feed_dict[tf_train_dataset] = batch_data        \n",
    "\n",
    "\n",
    "            fetches = [optimizer, loss]\n",
    "            results = session.run(fetches, feed_dict=feed_dict)\n",
    "\n",
    "\n",
    "            elapsed_time = time.time() - start_time\n",
    "            timeup = elapsed_time >= timeout\n",
    "\n",
    "            if step > 0 or timeup:\n",
    "                if (step % eval_steps == 0 or timeup):\n",
    "                    print('Elapsed time(s):%d/%d (%.2f%%)' % (elapsed_time, timeout, 1.0 * elapsed_time / timeout))\n",
    "                    if timeup:\n",
    "                        print(\"\\nTIMEUP!\")\n",
    "                    print('Learning rate:', learning_rate.eval())\n",
    "                    print('Minibatch loss at step %d: %f' % (step, results[1]))\n",
    "\n",
    "                    fetches = train_prediction\n",
    "                    results = session.run(fetches, feed_dict={tf_train_dataset : batch_data})\n",
    "                    train_accuracy = accuracy_list(\n",
    "                        results,\n",
    "                        batch_labels)\n",
    "\n",
    "                    print('Minibatch accuracy: %.1f%%' % train_accuracy)\n",
    "\n",
    "                if (step % valid_steps == 0 or timeup):\n",
    "                    valid_accuracy = accuracy_list(\n",
    "                        [valid_prediction[i].eval() for i in range(num_digits)],\n",
    "                        valid_labels)\n",
    "                    print('Validation accuracy: %.1f%%' % valid_accuracy)\n",
    "\n",
    "                if step % save_steps == 0 or timeup:\n",
    "                    test_accuracy = accuracy_list(\n",
    "                        [test_prediction[i].eval() for i in range(num_digits)],\n",
    "                        test_labels)\n",
    "                    print('Test accuracy: %.1f%%' % test_accuracy)\n",
    "\n",
    "            if timeup:\n",
    "                break\n",
    "\n",
    "        print(\"Saving graph\")\n",
    "        checkpoint_path = os.path.join('save', 'model.ckpt')\n",
    "        saver.save(session, checkpoint_path, global_step=0)\n",
    "        tf.train.write_graph(session.graph.as_graph_def(), 'save', 'model.pb')\n",
    "\n",
    "    print(\"Finished\")\n",
    "    return session"
   ]
  },
  {
   "cell_type": "code",
   "execution_count": null,
   "metadata": {
    "collapsed": false
   },
   "outputs": [],
   "source": [
    "# This graph will start of simple, and get more complex as we try different inputs\n",
    "def create_graph(valid_dataset, test_dataset,\n",
    "                 use_dropout=False,\n",
    "                 learning_rate=0.05,\n",
    "                 learning_decay=0.596,\n",
    "                 use_max_pool=False,\n",
    "                 num_hidden=64,\n",
    "                 patch_size=5,\n",
    "                 depth1=16):\n",
    "    \n",
    "    batch_size = 16\n",
    "    depth = depth1\n",
    "\n",
    "    # Taken from tensorflow tutorial\n",
    "    num_hidden = num_hidden\n",
    "\n",
    "    graph = tf.Graph()\n",
    "    stddev = 0.1\n",
    "\n",
    "    img_height, img_width = test_dataset[0].shape[:2]\n",
    "\n",
    "    with graph.as_default():\n",
    "\n",
    "        # Input data.\n",
    "        tf_train_dataset = tf.placeholder(tf.float32, shape=(batch_size,\n",
    "                                                           img_height,\n",
    "                                                           img_width,\n",
    "                                                           num_channels), name=\"tf_train_dataset\")\n",
    "\n",
    "        tf_train_labels = [tf.placeholder(tf.float32, shape=(batch_size,\n",
    "                                                             num_labels), name=\"tf_train_labels_%d\" % i)\n",
    "                           for i in range(num_digits)]\n",
    "\n",
    "        # Variables.\n",
    "        layer1_weights = tf.Variable(tf.truncated_normal([patch_size,\n",
    "                                                        patch_size,\n",
    "                                                        num_channels,\n",
    "                                                        depth], stddev=stddev), name=\"layer1_weights\")\n",
    "        layer1_biases = tf.Variable(tf.constant(0.1, shape=[depth]), name=\"layer1_biases\")\n",
    "\n",
    "        tmp_size = img_width * img_height * depth\n",
    "        if use_max_pool: tmp_size = int(tmp_size / 4.)\n",
    "        layer2_weights = tf.Variable(tf.truncated_normal([tmp_size, num_hidden], stddev=stddev),\n",
    "                                     name=\"layer2_weights\")\n",
    "        layer2_biases = tf.Variable(tf.constant(0.1, shape=[num_hidden]), name=\"layer2_biases\")\n",
    "\n",
    "\n",
    "        layer4_weights = tf.Variable(tf.truncated_normal([num_hidden,\n",
    "                                                        num_labels * num_digits], stddev=stddev), name=\"layer4_weights\")\n",
    "        layer4_biases = tf.Variable(tf.ones(shape=[num_labels * num_digits]), name=\"layer4_biases\")\n",
    "\n",
    "        # Model.\n",
    "        def model(data, dropout=False):\n",
    "            if dropout: data = tf.nn.dropout(data, 0.9)\n",
    "\n",
    "            conv = tf.nn.relu(tf.nn.conv2d(data, layer1_weights, [1, 1, 1, 1], padding='SAME') + layer1_biases)\n",
    "            if use_max_pool: conv = tf.nn.max_pool(conv, ksize=[1, 2, 2, 1], strides=[1, 2, 2, 1], padding='SAME')\n",
    "            if dropout: conv = tf.nn.dropout(conv, 0.75)\n",
    "\n",
    "            shape = conv.get_shape().as_list()\n",
    "            reshape = tf.reshape(conv, [shape[0], shape[1] * shape[2] * shape[3]])\n",
    "            hidden = tf.nn.relu(tf.matmul(reshape, layer2_weights) + layer2_biases)\n",
    "            if dropout: hidden = tf.nn.dropout(hidden, 0.5)\n",
    "            \n",
    "            output = tf.matmul(hidden, layer4_weights) + layer4_biases\n",
    "\n",
    "            split_logits = tf.split(1, num_digits, output)\n",
    "            return split_logits\n",
    "\n",
    "        # Training computation.\n",
    "        logits = model(tf_train_dataset, use_dropout)\n",
    "\n",
    "        # Training computation.\n",
    "        logits = model(tf_train_dataset)\n",
    "\n",
    "        loss = tf.reduce_mean([\n",
    "                            tf.nn.softmax_cross_entropy_with_logits(\n",
    "                                logits[i],\n",
    "                                tf_train_labels[i]\n",
    "                            )for i in range(num_digits)], name='loss')\n",
    "\n",
    "\n",
    "        # Optimizer.\n",
    "        global_step = tf.Variable(0)  # count the number of steps taken.\n",
    "        learning_rate = tf.train.exponential_decay(learning_rate, \n",
    "                                                   global_step, \n",
    "                                                   100000, \n",
    "                                                   learning_decay, \n",
    "                                                   name='learning_rate')\n",
    "        optimizer = tf.train.GradientDescentOptimizer(learning_rate, \n",
    "                                                      name='optimizer').minimize(loss, \n",
    "                                                                                 global_step=global_step)\n",
    "\n",
    "        # Predictions for the training, validation, and test data.\n",
    "        train_prediction = [tf.nn.softmax(model(tf_train_dataset)[i]\n",
    "                                         ,name=\"train_prediction_%d\" % i) for i in range(num_digits)]\n",
    "        \n",
    "        tf_valid_dataset = tf.constant(valid_dataset, name=\"tf_valid_dataset\")\n",
    "        valid_prediction = [tf.nn.softmax(model(tf_valid_dataset)[i]\n",
    "                                         ,name=\"valid_prediction_%d\" % i) for i in range(num_digits)]\n",
    "\n",
    "        tf_test_dataset = tf.constant(test_dataset, name=\"tf_test_dataset\")\n",
    "        test_prediction = [tf.nn.softmax(model(tf_test_dataset)[i]\n",
    "                                         ,name=\"test_prediction_%d\" % i) for i in range(num_digits)]\n",
    "        \n",
    "\n",
    "        # Create a single input tensor for use in the phone\n",
    "        tf_predict_single_dataset = tf.placeholder(tf.float32, shape=(1,\n",
    "                                                           img_height,\n",
    "                                                           img_width,\n",
    "                                                           3), name=\"tf_predict_single_dataset\")\n",
    "        # Average the color\n",
    "        conv = tf.reduce_mean(tf_predict_single_dataset, 3)\n",
    "        # Shape it correctly\n",
    "        conv = tf.reshape(conv, conv.get_shape().as_list() + [1])\n",
    "        # Move the color range\n",
    "        conv = tf.add(tf.div(conv, 255), -0.5)\n",
    "  \n",
    "        predict_single_output = tf.squeeze(tf.concat(1,\n",
    "                                          [tf.nn.softmax(model(conv)[i],\n",
    "                                                         name=\"test_prediction_%d\" % i) \n",
    "                                           for i in range(num_digits)]), name='predict_single_output')\n",
    "        \n",
    "    return graph"
   ]
  },
  {
   "cell_type": "code",
   "execution_count": null,
   "metadata": {
    "collapsed": false
   },
   "outputs": [],
   "source": [
    "# num hidden\n",
    "train_dataset, valid_dataset, test_dataset = dataset_56\n",
    "graph = create_graph(valid_dataset, test_dataset,\n",
    "                     use_dropout=True,\n",
    "                     use_max_pool=True,\n",
    "                     learning_rate=0.25,\n",
    "                     num_hidden=192,\n",
    "                     depth1=24,\n",
    "                     patch_size = 10)\n",
    "run_graph(graph, train_dataset)"
   ]
  },
  {
   "cell_type": "code",
   "execution_count": 187,
   "metadata": {
    "collapsed": false
   },
   "outputs": [
    {
     "data": {
      "image/png": "[encoded data removed]",
      "text/plain": [
       "<matplotlib.figure.Figure at 0x7fa48d481d90>"
      ]
     },
     "metadata": {},
     "output_type": "display_data"
    },
    {
     "name": "stdout",
     "output_type": "stream",
     "text": [
      "(56, 56, 4)\n",
      "(56, 56, 3)\n",
      "(1, 28, 28, 3)\n",
      "27 173\n",
      "-1.58978103791 2.32400307067\n"
     ]
    }
   ],
   "source": [
    "from scipy import ndimage\n",
    "import scipy.misc as spm\n",
    "import scipy.ndimage as spn\n",
    "\n",
    "image_data = ndimage.imread('pic.png')\n",
    "\n",
    "plt.imshow(image_data)\n",
    "plt.show()\n",
    "print(image_data.shape)\n",
    "\n",
    "# for i in range(4):\n",
    "#     plt.imshow(image_data[:, :, i])\n",
    "#     plt.show()\n",
    "\n",
    "image_data = image_data[:, :, :3]\n",
    "print(image_data.shape)\n",
    "image_data = image_data[::2, ::2, :]\n",
    "image_data = np.reshape(image_data, [1, 28, 28, 3])\n",
    "print(image_data.shape)\n",
    "\n",
    "print(np.min(image_data), np.max(image_data))\n",
    "image_data = (image_data - np.mean(image_data)) / np.std(image_data)\n",
    "print(np.min(image_data), np.max(image_data))\n",
    "\n",
    "# for i in range(3):\n",
    "#     plt.imshow(image_data[0, :, :, i])\n",
    "#     plt.show()"
   ]
  },
  {
   "cell_type": "code",
   "execution_count": 188,
   "metadata": {
    "collapsed": false
   },
   "outputs": [
    {
     "name": "stdout",
     "output_type": "stream",
     "text": [
      "[  4.33620904e-03   5.00000000e-01   1.38585135e-01   4.86481674e-02   1.08459666e-01   3.30733657e-02   2.74634454e-02   5.51784411e-02   3.64251547e-02   4.04128619e-02   1.42410246e-03\n",
      "   1.97055023e-02   2.35287920e-02   4.75052223e-02   2.16750558e-02   7.93201178e-02   2.64275521e-02   3.53516452e-02   1.82073954e-02   2.34586541e-02   2.01677959e-02   5.00000000e-01\n",
      "   1.43451581e-03   1.99567759e-03   8.03962466e-04   2.55189603e-03   8.35680228e-04   1.34050054e-03   1.74479524e-03   1.07031816e-03   7.07745086e-04   1.31720316e-03   5.00000000e-01\n",
      "   8.67867493e-04   7.93358253e-04   1.07636035e-03   7.82984367e-04   8.14524887e-04   5.73652738e-04   7.11823697e-04   6.56494463e-04   1.02144084e-03   9.39292309e-04   5.00000000e-01\n",
      "   6.82123995e-04   1.77973823e-04   3.75766744e-04   2.61256529e-04   2.03420204e-04   4.71529260e-04   2.33484359e-04   9.05221328e-04   3.12456861e-04   3.69659043e-04   5.00000000e-01]\n"
     ]
    },
    {
     "data": {
      "text/plain": [
       "array([[  4.33620904e-03,   5.00000000e-01,   1.38585135e-01,   4.86481674e-02,   1.08459666e-01,   3.30733657e-02,   2.74634454e-02,   5.51784411e-02,   3.64251547e-02,   4.04128619e-02,\n",
       "          1.42410246e-03],\n",
       "       [  1.97055023e-02,   2.35287920e-02,   4.75052223e-02,   2.16750558e-02,   7.93201178e-02,   2.64275521e-02,   3.53516452e-02,   1.82073954e-02,   2.34586541e-02,   2.01677959e-02,\n",
       "          5.00000000e-01],\n",
       "       [  1.43451581e-03,   1.99567759e-03,   8.03962466e-04,   2.55189603e-03,   8.35680228e-04,   1.34050054e-03,   1.74479524e-03,   1.07031816e-03,   7.07745086e-04,   1.31720316e-03,\n",
       "          5.00000000e-01],\n",
       "       [  8.67867493e-04,   7.93358253e-04,   1.07636035e-03,   7.82984367e-04,   8.14524887e-04,   5.73652738e-04,   7.11823697e-04,   6.56494463e-04,   1.02144084e-03,   9.39292309e-04,\n",
       "          5.00000000e-01],\n",
       "       [  6.82123995e-04,   1.77973823e-04,   3.75766744e-04,   2.61256529e-04,   2.03420204e-04,   4.71529260e-04,   2.33484359e-04,   9.05221328e-04,   3.12456861e-04,   3.69659043e-04,\n",
       "          5.00000000e-01]], dtype=float32)"
      ]
     },
     "execution_count": 188,
     "metadata": {},
     "output_type": "execute_result"
    }
   ],
   "source": [
    "np.set_printoptions(formatter={'float': lambda x: \"{0:0.3f}\".format(x)})\n",
    "np.set_printoptions(linewidth=200)\n",
    "\n",
    "with tf.Session(graph=graph) as session:\n",
    "    tf.initialize_all_variables().run()\n",
    "    \n",
    "\n",
    "r = np.clip(np.array(result), -0.5, 0.5)\n",
    "print(r)\n",
    "np.reshape(r, [5, -1])"
   ]
  },
  {
   "cell_type": "code",
   "execution_count": 11,
   "metadata": {
    "collapsed": false
   },
   "outputs": [
    {
     "ename": "NameError",
     "evalue": "global name 'test_graphs' is not defined",
     "output_type": "error",
     "traceback": [
      "\u001b[1;31m---------------------------------------------------------------------------\u001b[0m",
      "\u001b[1;31mNameError\u001b[0m                                 Traceback (most recent call last)",
      "\u001b[1;32m<ipython-input-11-883b44bdea79>\u001b[0m in \u001b[0;36m<module>\u001b[1;34m()\u001b[0m\n\u001b[0;32m      6\u001b[0m                      \u001b[0mlearning_rate\u001b[0m\u001b[1;33m=\u001b[0m\u001b[1;36m0.25\u001b[0m\u001b[1;33m,\u001b[0m\u001b[1;33m\u001b[0m\u001b[0m\n\u001b[0;32m      7\u001b[0m                      num_hidden=192)\n\u001b[1;32m----> 8\u001b[1;33m \u001b[0mrun_graph\u001b[0m\u001b[1;33m(\u001b[0m\u001b[0mgraph\u001b[0m\u001b[1;33m,\u001b[0m \u001b[0mtrain_dataset\u001b[0m\u001b[1;33m)\u001b[0m\u001b[1;33m\u001b[0m\u001b[0m\n\u001b[0m",
      "\u001b[1;32m<ipython-input-9-01c5aea83b2c>\u001b[0m in \u001b[0;36mrun_graph\u001b[1;34m(graph, train_dataset)\u001b[0m\n\u001b[0;32m     10\u001b[0m \u001b[1;33m\u001b[0m\u001b[0m\n\u001b[0;32m     11\u001b[0m \u001b[1;32mdef\u001b[0m \u001b[0mrun_graph\u001b[0m\u001b[1;33m(\u001b[0m\u001b[0mgraph\u001b[0m\u001b[1;33m,\u001b[0m \u001b[0mtrain_dataset\u001b[0m\u001b[1;33m)\u001b[0m\u001b[1;33m:\u001b[0m\u001b[1;33m\u001b[0m\u001b[0m\n\u001b[1;32m---> 12\u001b[1;33m     \u001b[1;32mif\u001b[0m \u001b[0mtest_graphs\u001b[0m\u001b[1;33m:\u001b[0m \u001b[1;32mreturn\u001b[0m\u001b[1;33m\u001b[0m\u001b[0m\n\u001b[0m\u001b[0;32m     13\u001b[0m     \u001b[0mstart_time\u001b[0m \u001b[1;33m=\u001b[0m \u001b[0mtime\u001b[0m\u001b[1;33m.\u001b[0m\u001b[0mtime\u001b[0m\u001b[1;33m(\u001b[0m\u001b[1;33m)\u001b[0m\u001b[1;33m\u001b[0m\u001b[0m\n\u001b[0;32m     14\u001b[0m \u001b[1;33m\u001b[0m\u001b[0m\n",
      "\u001b[1;31mNameError\u001b[0m: global name 'test_graphs' is not defined"
     ]
    }
   ],
   "source": []
  },
  {
   "cell_type": "code",
   "execution_count": 194,
   "metadata": {
    "collapsed": false
   },
   "outputs": [],
   "source": [
    "with tf.Session(graph=graph) as sess:\n",
    "    saver = tf.train.Saver(tf.all_variables())\n",
    "    sess.run(tf.initialize_all_variables())\n",
    "    \n",
    "    # Here's where you're restoring the variables w and b.\n",
    "    # Note that the graph is exactly as it was when the variables were\n",
    "    # saved in a prior training run.\n",
    "    \n",
    "    checkpoint_path = os.path.join('save', 'model.ckpt')\n",
    "    ckpt = tf.train.get_checkpoint_state('save')\n",
    "    if ckpt and ckpt.model_checkpoint_path:\n",
    "        saver.restore(sess, ckpt.model_checkpoint_path)\n",
    "        \n",
    "    predict_single_output = graph.get_tensor_by_name('predict_single_output:0')\n",
    "    tf_predict_single_dataset = graph.get_tensor_by_name('tf_predict_single_dataset:0')\n",
    "    feed_dict = {tf_predict_single_dataset : image_data}\n",
    "    result = predict_single_output.eval(feed_dict=feed_dict)\n",
    "                \n",
    "    tf_train_dataset = graph.get_tensor_by_name('tf_train_dataset:0')\n",
    "    tf_train_labels = [graph.get_tensor_by_name('tf_train_labels_%d:0' % i) for i in range(num_digits)]\n",
    "    train_prediction = [graph.get_tensor_by_name('train_prediction_%d:0' % i) for i in range(num_digits)]\n",
    "    valid_prediction = [graph.get_tensor_by_name('valid_prediction_%d:0' % i) for i in range(num_digits)]\n",
    "    test_prediction = [graph.get_tensor_by_name('test_prediction_%d:0' % i) for i in range(num_digits)]\n",
    "    optimizer = graph.get_tensor_by_name('optimizer:0')\n",
    "    loss = graph.get_tensor_by_name('loss:0')\n",
    "    learning_rate = graph.get_tensor_by_name('learning_rate:0')\n",
    "            \n",
    "    results = sess.run(test_prediction)\n",
    "    "
   ]
  },
  {
   "cell_type": "code",
   "execution_count": null,
   "metadata": {
    "collapsed": true
   },
   "outputs": [],
   "source": []
  },
  {
   "cell_type": "code",
   "execution_count": 198,
   "metadata": {
    "collapsed": false
   },
   "outputs": [],
   "source": [
    "with tf.Session(graph=graph) as sess:\n",
    "    saver = tf.train.Saver(tf.all_variables())\n",
    "    sess.run(tf.initialize_all_variables())\n",
    "    \n",
    "    # Here's where you're restoring the variables w and b.\n",
    "    # Note that the graph is exactly as it was when the variables were\n",
    "    # saved in a prior training run.\n",
    "    \n",
    "    checkpoint_path = os.path.join('save', 'model.ckpt')\n",
    "    ckpt = tf.train.get_checkpoint_state('save')\n",
    "    if ckpt and ckpt.model_checkpoint_path:\n",
    "        saver.restore(sess, ckpt.model_checkpoint_path)\n",
    "        \n",
    "    predict_single_output = graph.get_tensor_by_name('predict_single_output:0')\n",
    "    tf_predict_single_dataset = graph.get_tensor_by_name('tf_predict_single_dataset:0')\n",
    "    feed_dict = {tf_predict_single_dataset : image_data}\n",
    "    result = predict_single_output.eval(feed_dict=feed_dict)"
   ]
  },
  {
   "cell_type": "code",
   "execution_count": 201,
   "metadata": {
    "collapsed": false
   },
   "outputs": [
    {
     "name": "stdout",
     "output_type": "stream",
     "text": [
      "[ 1 10 10 10 10]\n"
     ]
    }
   ],
   "source": [
    "m = np.reshape(result, [5, -1])\n",
    "print(np.apply_along_axis(np.argmax, 1, m))"
   ]
  },
  {
   "cell_type": "code",
   "execution_count": 204,
   "metadata": {
    "collapsed": false
   },
   "outputs": [],
   "source": [
    "r = np.array(results)\n",
    "r.shape\n",
    "\n",
    "for i in range(110, 110):\n",
    "    img = test_dataset[i]\n",
    "    plt.imshow(np.reshape(img, img.shape[:2]))\n",
    "    plt.show()\n",
    "    print(np.apply_along_axis(np.argmax, 1, test_labels[i]))\n",
    "    n = r[:, i, :]\n",
    "    print(np.apply_along_axis(np.argmax, 1, n))"
   ]
  },
  {
   "cell_type": "code",
   "execution_count": 210,
   "metadata": {
    "collapsed": false
   },
   "outputs": [
    {
     "data": {
      "text/plain": [
       "(1, 28, 28, 3)"
      ]
     },
     "execution_count": 210,
     "metadata": {},
     "output_type": "execute_result"
    }
   ],
   "source": [
    "image_data.shape"
   ]
  },
  {
   "cell_type": "code",
   "execution_count": 217,
   "metadata": {
    "collapsed": false
   },
   "outputs": [
    {
     "name": "stdout",
     "output_type": "stream",
     "text": [
      "[1, 28, 28]\n",
      "[1, 28, 28, 1]\n",
      "[1, 28, 28, 1]\n"
     ]
    }
   ],
   "source": [
    "img_height, img_width = 28, 28\n",
    "\n",
    "def graph_play():\n",
    "    graph = tf.Graph()\n",
    "    \n",
    "    with graph.as_default():\n",
    "\n",
    "         # Create a single input tensor for use in the phone\n",
    "        tf_predict_single_dataset = tf.placeholder(tf.float32, shape=(1,\n",
    "                                                           img_height,\n",
    "                                                           img_width,\n",
    "                                                           3), name=\"input\")\n",
    "        \n",
    "        conv = tf.reduce_mean(tf_predict_single_dataset, 3)\n",
    "        print(conv.get_shape().as_list())\n",
    "        # Shape it correctly\n",
    "        conv = tf.reshape(conv, conv.get_shape().as_list() + [1], name='output')\n",
    "        # Move the color range\n",
    "        print(conv.get_shape().as_list())\n",
    "        conv = tf.add(tf.div(conv, 255), -0.5, name='output')\n",
    "        print(conv.get_shape().as_list())\n",
    "\n",
    "    return graph\n",
    "\n",
    "def run(graph):\n",
    "    \n",
    "    session = tf.Session(graph=graph);\n",
    "    \n",
    "    with tf.Session(graph=graph) as session:\n",
    "        tf.initialize_all_variables().run()\n",
    "        \n",
    "        tf_input = graph.get_tensor_by_name('input:0')\n",
    "        \n",
    "        tf_output = graph.get_tensor_by_name('output:0')\n",
    "        \n",
    "        feed_dict = {tf_input : image_data}        \n",
    "        \n",
    "        result = tf_output.eval(feed_dict=feed_dict)\n",
    "        \n",
    "    return result\n",
    "        \n",
    "result = run(graph_play())"
   ]
  },
  {
   "cell_type": "code",
   "execution_count": 218,
   "metadata": {
    "collapsed": false
   },
   "outputs": [
    {
     "data": {
      "text/plain": [
       "(55,)"
      ]
     },
     "execution_count": 218,
     "metadata": {},
     "output_type": "execute_result"
    }
   ],
   "source": [
    "result.shape"
   ]
  },
  {
   "cell_type": "code",
   "execution_count": null,
   "metadata": {
    "collapsed": true
   },
   "outputs": [],
   "source": []
  }
 ],
 "metadata": {
  "kernelspec": {
   "display_name": "Python 2",
   "language": "python",
   "name": "python2"
  },
  "language_info": {
   "codemirror_mode": {
    "name": "ipython",
    "version": 2
   },
   "file_extension": ".py",
   "mimetype": "text/x-python",
   "name": "python",
   "nbconvert_exporter": "python",
   "pygments_lexer": "ipython2",
   "version": "2.7.10"
  }
 },
 "nbformat": 4,
 "nbformat_minor": 0
}
