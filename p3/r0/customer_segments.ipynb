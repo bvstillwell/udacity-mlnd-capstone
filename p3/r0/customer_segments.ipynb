{
 "cells": [
  {
   "cell_type": "markdown",
   "metadata": {},
   "source": [
    "# Creating Customer Segments"
   ]
  },
  {
   "cell_type": "markdown",
   "metadata": {},
   "source": [
    "In this project you, will analyze a dataset containing annual spending amounts for internal structure, to understand the variation in the different types of customers that a wholesale distributor interacts with.\n",
    "\n",
    "Instructions:\n",
    "\n",
    "- Run each code block below by pressing **Shift+Enter**, making sure to implement any steps marked with a TODO.\n",
    "- Answer each question in the space provided by editing the blocks labeled \"Answer:\".\n",
    "- When you are done, submit the completed notebook (.ipynb) with all code blocks executed, as well as a .pdf version (File > Download as)."
   ]
  },
  {
   "cell_type": "code",
   "execution_count": 1,
   "metadata": {
    "collapsed": false
   },
   "outputs": [
    {
     "name": "stdout",
     "output_type": "stream",
     "text": [
      "Dataset has 440 rows, 6 columns\n",
      "   Fresh  Milk  Grocery  Frozen  Detergents_Paper  Delicatessen\n",
      "0  12669  9656     7561     214              2674          1338\n",
      "1   7057  9810     9568    1762              3293          1776\n",
      "2   6353  8808     7684    2405              3516          7844\n",
      "3  13265  1196     4221    6404               507          1788\n",
      "4  22615  5410     7198    3915              1777          5185\n",
      "(440, 6)\n"
     ]
    }
   ],
   "source": [
    "# Import libraries: NumPy, pandas, matplotlib\n",
    "import numpy as np\n",
    "import pandas as pd\n",
    "import matplotlib.pyplot as plt\n",
    "\n",
    "# Tell iPython to include plots inline in the notebook\n",
    "%matplotlib inline\n",
    "\n",
    "# Read dataset\n",
    "data = pd.read_csv(\"wholesale-customers.csv\")\n",
    "print \"Dataset has {} rows, {} columns\".format(*data.shape)\n",
    "print data.head()  # print the first 5 rows\n",
    "print data.shape"
   ]
  },
  {
   "cell_type": "code",
   "execution_count": 2,
   "metadata": {
    "collapsed": false
   },
   "outputs": [
    {
     "name": "stdout",
     "output_type": "stream",
     "text": [
      "['Fresh' 'Milk' 'Grocery' 'Frozen' 'Detergents_Paper' 'Delicatessen']\n"
     ]
    }
   ],
   "source": [
    "from sklearn.preprocessing import StandardScaler, MinMaxScaler\n",
    "scaler = StandardScaler()\n",
    "scaled_data = scaler.fit_transform(data)\n",
    "print data.columns.values"
   ]
  },
  {
   "cell_type": "code",
   "execution_count": 12,
   "metadata": {
    "collapsed": false
   },
   "outputs": [
    {
     "name": "stdout",
     "output_type": "stream",
     "text": [
      "****************************************\n",
      "****************************************\n",
      "****************************************\n",
      "****************************************\n",
      "****************************************\n",
      "****************************************\n"
     ]
    },
    {
     "data": {
      "image/png": "[encoded data removed]",
      "text/plain": [
       "<matplotlib.figure.Figure at 0x7f7658854f50>"
      ]
     },
     "metadata": {},
     "output_type": "display_data"
    }
   ],
   "source": [
    "import itertools\n",
    "for a, b in itertools.combinations(range(data.shape[1]), 2):\n",
    "    plt.clf()\n",
    "    plt.xlabel(data.columns.values[a])\n",
    "    plt.ylabel(data.columns.values[b])\n",
    "    plt.loglog(scaled_data.T[a], scaled_data.T[b], 'ro')\n",
    "    plt.xlim([10**-3,10**2])\n",
    "    plt.ylim([10**-3,10**2])\n",
    "    #plt.plot(scaled_data.T[a], scaled_data.T[b], 'ro')\n",
    "    plt.grid(True)\n",
    "    plt.axhline(y=0, color='k')\n",
    "    plt.axvline(x=0, color='k')\n",
    "    #plt.show()    \n",
    "\n",
    "def print_data_info(array):\n",
    "    print 'Min     :%12.3f' % np.min(array)\n",
    "    print 'Max     :%12.3f' % np.max(array)\n",
    "    print 'Mean    :%12.3f' % np.mean(array)\n",
    "    print 'Median  :%12.3f' % np.median(array)\n",
    "    print 'Std     :%12.3f' % np.std(array, ddof=1) #ddof is for sample data\n",
    "    print 'Var     :%12.3f' % np.var(array, ddof=1) #ddof is for sample data    \n",
    "    \n",
    "from sklearn.preprocessing import StandardScaler\n",
    "scaler = StandardScaler()\n",
    "scaled_data = scaler.fit_transform(data)\n",
    "\n",
    "for a in scaled_data.T:\n",
    "    #print data\n",
    "    print '*' * 40\n",
    "    #print 'Feature :%12s' % a\n",
    "    #print_data_info(a)\n",
    "    "
   ]
  },
  {
   "cell_type": "markdown",
   "metadata": {},
   "source": [
    "## Feature Transformation"
   ]
  },
  {
   "cell_type": "markdown",
   "metadata": {},
   "source": [
    "**1)** In this section you will be using PCA and ICA to start to understand the structure of the data. Before doing any computations, what do you think will show up in your computations? List one or two ideas for what might show up as the first PCA dimensions, or what type of vectors will show up as ICA dimensions."
   ]
  },
  {
   "cell_type": "markdown",
   "metadata": {},
   "source": [
    "Answer: I think the computations will show certain features have larger variance than others. Due to different shop types and sizes we will be able to recognize supermarkets from smaller stores.\n",
    "\n"
   ]
  },
  {
   "cell_type": "markdown",
   "metadata": {},
   "source": [
    "### PCA"
   ]
  },
  {
   "cell_type": "code",
   "execution_count": 8,
   "metadata": {
    "collapsed": false
   },
   "outputs": [
    {
     "name": "stdout",
     "output_type": "stream",
     "text": [
      "['Fresh' 'Milk' 'Grocery' 'Frozen' 'Detergents_Paper' 'Delicatessen']\n",
      "[[-0.04288396 -0.54511832 -0.57925635 -0.05118859 -0.5486402  -0.24868198]\n",
      " [-0.52793212 -0.08316765  0.14608818 -0.61127764  0.25523316 -0.50420705]\n",
      " [-0.81225657  0.06038798 -0.10838401  0.17838615 -0.13619225  0.52390412]\n",
      " [-0.23668559 -0.08718991  0.10598745  0.76868266  0.17174406 -0.55206472]\n",
      " [ 0.04868278 -0.82657929  0.31499943  0.02793224  0.33964012  0.31470051]\n",
      " [ 0.03602539  0.03804019 -0.72174458  0.01563715  0.68589373  0.07513412]]\n",
      "[ 0.44082893  0.283764    0.12334413  0.09395504  0.04761272  0.01049519]\n"
     ]
    }
   ],
   "source": [
    "# TODO: Apply PCA with the same number of dimensions as variables in the dataset\n",
    "# we need to scale this data\n",
    "from sklearn.preprocessing import StandardScaler\n",
    "scaler = StandardScaler()\n",
    "scaled_data = scaler.fit_transform(data)\n",
    "\n",
    "from sklearn.decomposition import PCA\n",
    "pca = PCA()\n",
    "pca.fit(scaled_data)\n",
    "\n",
    "# Print the components and the amount of variance in the data contained in each dimension\n",
    "print data.columns.values\n",
    "print pca.components_\n",
    "print pca.explained_variance_ratio_"
   ]
  },
  {
   "cell_type": "code",
   "execution_count": 9,
   "metadata": {
    "collapsed": false
   },
   "outputs": [
    {
     "data": {
      "image/png": "[encoded data removed]",
      "text/plain": [
       "<matplotlib.figure.Figure at 0x7fc74a0fdd50>"
      ]
     },
     "metadata": {},
     "output_type": "display_data"
    }
   ],
   "source": [
    "plt.plot(range(1, len(pca.explained_variance_ratio_)+1), pca.explained_variance_ratio_, '-o')\n",
    "plt.xlabel('dimension no')\n",
    "plt.ylabel('standardised variance')\n",
    "plt.title('Variance for dimension')\n",
    "plt.xlim(xmin=0.5, xmax=6.5)\n",
    "plt.grid = True\n",
    "plt.show()"
   ]
  },
  {
   "cell_type": "markdown",
   "metadata": {},
   "source": [
    "**2)** How quickly does the variance drop off by dimension? If you were to use PCA on this dataset, how many dimensions would you choose for your analysis? Why?"
   ]
  },
  {
   "cell_type": "markdown",
   "metadata": {
    "collapsed": true
   },
   "source": [
    "Answer: The largest variance starts at .52 and approximately halves with each additional dimension. From the PCA analysis results I would choose the first 3 features to use. This is because 4 or more dimensions adds little information, and using 2 or less leaves would leave the data literaly flat. I would hope that the 3rd dimension would show a number of clusters that 2 dimensions would not."
   ]
  },
  {
   "cell_type": "markdown",
   "metadata": {},
   "source": [
    "**3)** What do the dimensions seem to represent? How can you use this information?"
   ]
  },
  {
   "cell_type": "markdown",
   "metadata": {
    "collapsed": true
   },
   "source": [
    "Answer: From the components printout of PCA we can disern the following summary of dimensions.\n",
    "- The first dimension shows a strong correlation with the Milk, Grocery and Detergents spending\n",
    "- The second dimension is strongly and negatively aligned with the Fresh spending, i.e. shops that don't spend money on Fresh.\n",
    "- The third dimension correlates Fresh and negative Frozen spending, i.e. Shops that spend on Fresh, and Don't spend on Frozen.\n",
    "- The forth dimension correlates Milk and Frozen, but not Fresh\n",
    "- The fifth dimension is aligned with Delicatessen\n",
    "- And the sixth is a correlation of Grocery and Detergents\n",
    "\n",
    "We can use this information to consider what kinds of shops we might have in the real world and determine the number of clusters we should choose."
   ]
  },
  {
   "cell_type": "markdown",
   "metadata": {},
   "source": [
    "### ICA"
   ]
  },
  {
   "cell_type": "code",
   "execution_count": 10,
   "metadata": {
    "collapsed": false
   },
   "outputs": [
    {
     "name": "stdout",
     "output_type": "stream",
     "text": [
      "['Fresh' 'Milk' 'Grocery' 'Frozen' 'Detergents_Paper' 'Delicatessen']\n",
      "[[-0.00488288 -0.0016185  -0.00569296 -0.00253169  0.00242528  0.05096393]\n",
      " [ 0.01092895  0.00103733 -0.00734548 -0.05404988  0.00263666  0.01676617]\n",
      " [-0.00376665  0.01709914  0.11417475 -0.00710221 -0.1343003  -0.01613873]\n",
      " [-0.05022962  0.00634471  0.00601034  0.00328136 -0.00990704  0.0029256 ]\n",
      " [-0.0019445  -0.0725691   0.0551918   0.00176063 -0.01585173  0.01705723]\n",
      " [ 0.00264902 -0.01384075  0.06151192  0.00196037 -0.00443435 -0.0041686 ]]\n"
     ]
    }
   ],
   "source": [
    "# TODO: Fit an ICA model to the data\n",
    "# Note: Adjust the data to have center at the origin first!\n",
    "from sklearn.preprocessing import StandardScaler\n",
    "scaler = StandardScaler()\n",
    "scaled_data = scaler.fit_transform(data)\n",
    "\n",
    "from sklearn.decomposition import FastICA\n",
    "ica = FastICA()\n",
    "ica.fit(scaled_data)\n",
    "\n",
    "# Print the independent components\n",
    "print data.columns.values\n",
    "print ica.components_"
   ]
  },
  {
   "cell_type": "markdown",
   "metadata": {},
   "source": [
    "**4)** For each vector in the ICA decomposition, write a sentence or two explaining what sort of object or property it corresponds to. What could these components be used for?"
   ]
  },
  {
   "cell_type": "markdown",
   "metadata": {
    "collapsed": true
   },
   "source": [
    "Answer: From the components printout of PCA we can disern the following summary of dimensions.\n",
    "- The first component shows a negative correlation for Milk spending\n",
    "- The second component shows strong correlation for Delicatessen\n",
    "- The third component shows a strong negative correlation for Frozen\n",
    "- The forth dimenstion shows a strong correlation for Grocery and a slight negative for milk\n",
    "- The fifth dimension shows ver strong correlation for Grocery and strong for not detergents\n",
    "- The sixth dimension shows a strong correlation for Delicatessen and slight for Fresh\n",
    "\n",
    "Some of these could indicate client types. Like vector six might be restaurants."
   ]
  },
  {
   "cell_type": "markdown",
   "metadata": {},
   "source": [
    "## Clustering\n",
    "\n",
    "In this section you will choose either K Means clustering or Gaussian Mixed Models clustering, which implements expectation-maximization. Then you will sample elements from the clusters to understand their significance."
   ]
  },
  {
   "cell_type": "markdown",
   "metadata": {},
   "source": [
    "### Choose a Cluster Type\n",
    "\n",
    "**5)** What are the advantages of using K Means clustering or Gaussian Mixture Models?"
   ]
  },
  {
   "cell_type": "markdown",
   "metadata": {},
   "source": [
    "Answer: "
   ]
  },
  {
   "cell_type": "markdown",
   "metadata": {},
   "source": [
    "**6)** Below is some starter code to help you visualize some cluster data. The visualization is based on [this demo](http://scikit-learn.org/stable/auto_examples/cluster/plot_kmeans_digits.html) from the sklearn documentation."
   ]
  },
  {
   "cell_type": "code",
   "execution_count": 42,
   "metadata": {
    "collapsed": true
   },
   "outputs": [],
   "source": [
    "# Import clustering modules\n",
    "from sklearn.cluster import KMeans\n",
    "from sklearn.mixture import GMM"
   ]
  },
  {
   "cell_type": "code",
   "execution_count": 21,
   "metadata": {
    "collapsed": false,
    "scrolled": true
   },
   "outputs": [
    {
     "name": "stdout",
     "output_type": "stream",
     "text": [
      "[[-0.19329055  0.30509996]\n",
      " [-0.4344199   0.32841262]\n",
      " [-0.81114323 -0.8150957 ]\n",
      " [ 0.77864783 -0.65275373]\n",
      " [-0.16628726 -1.27143372]\n",
      " [ 0.15616993  0.29514099]\n",
      " [ 0.3352884   0.52500326]\n",
      " [-0.14058643  0.23099269]\n",
      " [ 0.51731954  0.65936283]\n",
      " [-1.59210908  0.74101133]]\n",
      "[[-0.04288396 -0.54511832 -0.57925635 -0.05118859 -0.5486402  -0.24868198]\n",
      " [-0.52793212 -0.08316765  0.14608818 -0.61127764  0.25523316 -0.50420705]]\n",
      "(2, 6)\n"
     ]
    },
    {
     "data": {
      "image/png": "[encoded data removed]",
      "text/plain": [
       "<matplotlib.figure.Figure at 0x7f7658df9a50>"
      ]
     },
     "metadata": {},
     "output_type": "display_data"
    }
   ],
   "source": [
    "# TODO: First we reduce the data to two dimensions using PCA to capture variation\n",
    "from sklearn.preprocessing import StandardScaler, MinMaxScaler\n",
    "scaler = StandardScaler()\n",
    "scaled_data = scaler.fit_transform(data)\n",
    "\n",
    "from sklearn.decomposition import PCA\n",
    "\n",
    "pca = PCA(n_components=2)\n",
    "reduced_data = pca.fit_transform(scaled_data)\n",
    "print reduced_data[:10]  # print upto 10 elements\n",
    "\n",
    "print pca.components_\n",
    "print pca.components_.shape\n",
    "\n",
    "def show_plot(a, b):\n",
    "    plt.clf()\n",
    "    #plt.plot(a, b, 'ro')\n",
    "    plt.loglog(a, b, 'ro')\n",
    "    plt.xlim([10**-3,10**2])\n",
    "    plt.ylim([10**-3,10**2])\n",
    "    plt.show()\n",
    "    \n",
    "#show_plot(pca.components_[0], pca.components_[1])\n",
    "show_plot(reduced_data.T[0], reduced_data.T[1])\n",
    "#for a in range(reduced_data.shape[1]):\n",
    "#    show_plot(reduced_data.T[a])\n",
    "reduced_data = pca.components_"
   ]
  },
  {
   "cell_type": "code",
   "execution_count": 131,
   "metadata": {
    "collapsed": false
   },
   "outputs": [
    {
     "name": "stdout",
     "output_type": "stream",
     "text": [
      "KMeans(copy_x=True, init='k-means++', max_iter=300, n_clusters=4, n_init=10,\n",
      "    n_jobs=1, precompute_distances='auto', random_state=None, tol=0.0001,\n",
      "    verbose=0)\n"
     ]
    }
   ],
   "source": [
    "# TODO: Implement your clustering algorithm here, and fit it to the reduced data for visualization\n",
    "# The visualizer below assumes your clustering object is named 'clusters'\n",
    "clusters = KMeans(n_clusters=4)\n",
    "\n",
    "\n",
    "#clusters = GMM(n_components=4)\n",
    "clusters.fit(reduced_data.T)\n",
    "print clusters"
   ]
  },
  {
   "cell_type": "code",
   "execution_count": 132,
   "metadata": {
    "collapsed": false
   },
   "outputs": [],
   "source": [
    "# Plot the decision boundary by building a mesh grid to populate a graph.\n",
    "x_min, x_max = reduced_data[:, 0].min() - 1, reduced_data[:, 0].max() + 1\n",
    "y_min, y_max = reduced_data[:, 1].min() - 1, reduced_data[:, 1].max() + 1\n",
    "hx = (x_max-x_min)/1000.\n",
    "hy = (y_max-y_min)/1000.\n",
    "xx, yy = np.meshgrid(np.arange(x_min, x_max, hx), np.arange(y_min, y_max, hy))\n",
    "\n",
    "# Obtain labels for each point in mesh. Use last trained model.\n",
    "Z = clusters.predict(np.c_[xx.ravel(), yy.ravel()])"
   ]
  },
  {
   "cell_type": "code",
   "execution_count": 133,
   "metadata": {
    "collapsed": false
   },
   "outputs": [
    {
     "name": "stdout",
     "output_type": "stream",
     "text": [
      "[[-0.06154039  0.76460638]\n",
      " [-0.11023466  0.01917788]\n",
      " [-0.97653685 -0.11061386]\n",
      " [-0.05706495  0.44057646]]\n"
     ]
    }
   ],
   "source": [
    "# TODO: Find the centroids for KMeans or the cluster means for GMM \n",
    "\n",
    "centroids = clusters.cluster_centers_\n",
    "print centroids"
   ]
  },
  {
   "cell_type": "code",
   "execution_count": 134,
   "metadata": {
    "collapsed": false
   },
   "outputs": [
    {
     "data": {
      "image/png": "[encoded data removed]",
      "text/plain": [
       "<matplotlib.figure.Figure at 0x7fc749a91ad0>"
      ]
     },
     "metadata": {},
     "output_type": "display_data"
    }
   ],
   "source": [
    "# Put the result into a color plot\n",
    "Z = Z.reshape(xx.shape)\n",
    "plt.figure(1)\n",
    "plt.clf()\n",
    "plt.imshow(Z, interpolation='nearest',\n",
    "           extent=(xx.min(), xx.max(), yy.min(), yy.max()),\n",
    "           cmap=plt.cm.Paired,\n",
    "           aspect='auto', origin='lower')\n",
    "\n",
    "plt.plot(reduced_data[:, 0], reduced_data[:, 1], 'k.', markersize=2)\n",
    "plt.scatter(centroids[:, 0], centroids[:, 1],\n",
    "            marker='x', s=169, linewidths=3,\n",
    "            color='w', zorder=10)\n",
    "plt.title('Clustering on the wholesale grocery dataset (PCA-reduced data)\\n'\n",
    "          'Centroids are marked with white cross')\n",
    "plt.xlim(x_min, x_max)\n",
    "plt.ylim(y_min, y_max)\n",
    "plt.xticks(())\n",
    "plt.yticks(())\n",
    "plt.show()"
   ]
  },
  {
   "cell_type": "markdown",
   "metadata": {},
   "source": [
    "**7)** What are the central objects in each cluster? Describe them as customers."
   ]
  },
  {
   "cell_type": "markdown",
   "metadata": {
    "collapsed": true
   },
   "source": [
    "Answer: "
   ]
  },
  {
   "cell_type": "markdown",
   "metadata": {},
   "source": [
    "### Conclusions\n",
    "\n",
    "** 8)** Which of these techniques did you feel gave you the most insight into the data?"
   ]
  },
  {
   "cell_type": "markdown",
   "metadata": {
    "collapsed": true
   },
   "source": [
    "Answer: "
   ]
  },
  {
   "cell_type": "markdown",
   "metadata": {
    "collapsed": true
   },
   "source": [
    "**9)** How would you use that technique to help the company design new experiments?"
   ]
  },
  {
   "cell_type": "markdown",
   "metadata": {},
   "source": [
    "Answer: "
   ]
  },
  {
   "cell_type": "markdown",
   "metadata": {},
   "source": [
    "**10)** How would you use that data to help you predict future customer needs?"
   ]
  },
  {
   "cell_type": "markdown",
   "metadata": {},
   "source": [
    "Answer: "
   ]
  },
  {
   "cell_type": "code",
   "execution_count": null,
   "metadata": {
    "collapsed": true
   },
   "outputs": [],
   "source": []
  },
  {
   "cell_type": "code",
   "execution_count": null,
   "metadata": {
    "collapsed": true
   },
   "outputs": [],
   "source": []
  },
  {
   "cell_type": "code",
   "execution_count": null,
   "metadata": {
    "collapsed": true
   },
   "outputs": [],
   "source": []
  },
  {
   "cell_type": "code",
   "execution_count": null,
   "metadata": {
    "collapsed": true
   },
   "outputs": [],
   "source": []
  },
  {
   "cell_type": "code",
   "execution_count": null,
   "metadata": {
    "collapsed": true
   },
   "outputs": [],
   "source": []
  },
  {
   "cell_type": "code",
   "execution_count": null,
   "metadata": {
    "collapsed": true
   },
   "outputs": [],
   "source": []
  }
 ],
 "metadata": {
  "kernelspec": {
   "display_name": "Python 2",
   "language": "python",
   "name": "python2"
  },
  "language_info": {
   "codemirror_mode": {
    "name": "ipython",
    "version": 2
   },
   "file_extension": ".py",
   "mimetype": "text/x-python",
   "name": "python",
   "nbconvert_exporter": "python",
   "pygments_lexer": "ipython2",
   "version": "2.7.11"
  }
 },
 "nbformat": 4,
 "nbformat_minor": 0
}
